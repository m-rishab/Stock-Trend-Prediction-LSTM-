{
 "cells": [
  {
   "cell_type": "code",
   "execution_count": 174,
   "id": "29b12893",
   "metadata": {},
   "outputs": [],
   "source": [
    "import pandas as pd\n",
    "import tensorflow as tf\n",
    "import numpy as np\n",
    "import matplotlib.pyplot as plt\n",
    "import yfinance as yf\n",
    "from datetime import datetime"
   ]
  },
  {
   "cell_type": "code",
   "execution_count": 175,
   "id": "4de1b762",
   "metadata": {
    "colab": {
     "base_uri": "https://localhost:8080/",
     "height": 237
    },
    "id": "4de1b762",
    "outputId": "06284ebc-76b8-454b-a345-ce7d2979f220"
   },
   "outputs": [
    {
     "data": {
      "text/html": [
       "<div>\n",
       "<style scoped>\n",
       "    .dataframe tbody tr th:only-of-type {\n",
       "        vertical-align: middle;\n",
       "    }\n",
       "\n",
       "    .dataframe tbody tr th {\n",
       "        vertical-align: top;\n",
       "    }\n",
       "\n",
       "    .dataframe thead tr th {\n",
       "        text-align: left;\n",
       "    }\n",
       "\n",
       "    .dataframe thead tr:last-of-type th {\n",
       "        text-align: right;\n",
       "    }\n",
       "</style>\n",
       "<table border=\"1\" class=\"dataframe\">\n",
       "  <thead>\n",
       "    <tr>\n",
       "      <th></th>\n",
       "      <th colspan=\"2\" halign=\"left\">Adj Close</th>\n",
       "      <th colspan=\"2\" halign=\"left\">Close</th>\n",
       "      <th colspan=\"2\" halign=\"left\">High</th>\n",
       "      <th colspan=\"2\" halign=\"left\">Low</th>\n",
       "      <th colspan=\"2\" halign=\"left\">Open</th>\n",
       "      <th colspan=\"2\" halign=\"left\">Volume</th>\n",
       "    </tr>\n",
       "    <tr>\n",
       "      <th></th>\n",
       "      <th>AAPL</th>\n",
       "      <th>TSLA</th>\n",
       "      <th>AAPL</th>\n",
       "      <th>TSLA</th>\n",
       "      <th>AAPL</th>\n",
       "      <th>TSLA</th>\n",
       "      <th>AAPL</th>\n",
       "      <th>TSLA</th>\n",
       "      <th>AAPL</th>\n",
       "      <th>TSLA</th>\n",
       "      <th>AAPL</th>\n",
       "      <th>TSLA</th>\n",
       "    </tr>\n",
       "    <tr>\n",
       "      <th>Date</th>\n",
       "      <th></th>\n",
       "      <th></th>\n",
       "      <th></th>\n",
       "      <th></th>\n",
       "      <th></th>\n",
       "      <th></th>\n",
       "      <th></th>\n",
       "      <th></th>\n",
       "      <th></th>\n",
       "      <th></th>\n",
       "      <th></th>\n",
       "      <th></th>\n",
       "    </tr>\n",
       "  </thead>\n",
       "  <tbody>\n",
       "    <tr>\n",
       "      <th>2022-05-09</th>\n",
       "      <td>150.754944</td>\n",
       "      <td>262.369995</td>\n",
       "      <td>152.059998</td>\n",
       "      <td>262.369995</td>\n",
       "      <td>155.830002</td>\n",
       "      <td>281.876678</td>\n",
       "      <td>151.490005</td>\n",
       "      <td>260.383331</td>\n",
       "      <td>154.929993</td>\n",
       "      <td>278.816681</td>\n",
       "      <td>131577900</td>\n",
       "      <td>90810300</td>\n",
       "    </tr>\n",
       "    <tr>\n",
       "      <th>2022-05-10</th>\n",
       "      <td>153.183914</td>\n",
       "      <td>266.679993</td>\n",
       "      <td>154.509995</td>\n",
       "      <td>266.679993</td>\n",
       "      <td>156.740005</td>\n",
       "      <td>275.119995</td>\n",
       "      <td>152.929993</td>\n",
       "      <td>258.083344</td>\n",
       "      <td>155.520004</td>\n",
       "      <td>273.103333</td>\n",
       "      <td>115366700</td>\n",
       "      <td>84401700</td>\n",
       "    </tr>\n",
       "    <tr>\n",
       "      <th>2022-05-11</th>\n",
       "      <td>145.242661</td>\n",
       "      <td>244.666672</td>\n",
       "      <td>146.500000</td>\n",
       "      <td>244.666672</td>\n",
       "      <td>155.449997</td>\n",
       "      <td>269.923340</td>\n",
       "      <td>145.809998</td>\n",
       "      <td>242.399994</td>\n",
       "      <td>153.500000</td>\n",
       "      <td>265.000000</td>\n",
       "      <td>142689800</td>\n",
       "      <td>97224600</td>\n",
       "    </tr>\n",
       "    <tr>\n",
       "      <th>2022-05-12</th>\n",
       "      <td>141.336487</td>\n",
       "      <td>242.666672</td>\n",
       "      <td>142.559998</td>\n",
       "      <td>242.666672</td>\n",
       "      <td>146.199997</td>\n",
       "      <td>253.220001</td>\n",
       "      <td>138.800003</td>\n",
       "      <td>226.666672</td>\n",
       "      <td>142.770004</td>\n",
       "      <td>233.666672</td>\n",
       "      <td>182602000</td>\n",
       "      <td>140313000</td>\n",
       "    </tr>\n",
       "    <tr>\n",
       "      <th>2022-05-13</th>\n",
       "      <td>145.847443</td>\n",
       "      <td>256.529999</td>\n",
       "      <td>147.110001</td>\n",
       "      <td>256.529999</td>\n",
       "      <td>148.100006</td>\n",
       "      <td>262.450012</td>\n",
       "      <td>143.110001</td>\n",
       "      <td>250.523331</td>\n",
       "      <td>144.589996</td>\n",
       "      <td>257.826660</td>\n",
       "      <td>113990900</td>\n",
       "      <td>92150700</td>\n",
       "    </tr>\n",
       "  </tbody>\n",
       "</table>\n",
       "</div>"
      ],
      "text/plain": [
       "             Adj Close                   Close                    High  \\\n",
       "                  AAPL        TSLA        AAPL        TSLA        AAPL   \n",
       "Date                                                                     \n",
       "2022-05-09  150.754944  262.369995  152.059998  262.369995  155.830002   \n",
       "2022-05-10  153.183914  266.679993  154.509995  266.679993  156.740005   \n",
       "2022-05-11  145.242661  244.666672  146.500000  244.666672  155.449997   \n",
       "2022-05-12  141.336487  242.666672  142.559998  242.666672  146.199997   \n",
       "2022-05-13  145.847443  256.529999  147.110001  256.529999  148.100006   \n",
       "\n",
       "                               Low                    Open              \\\n",
       "                  TSLA        AAPL        TSLA        AAPL        TSLA   \n",
       "Date                                                                     \n",
       "2022-05-09  281.876678  151.490005  260.383331  154.929993  278.816681   \n",
       "2022-05-10  275.119995  152.929993  258.083344  155.520004  273.103333   \n",
       "2022-05-11  269.923340  145.809998  242.399994  153.500000  265.000000   \n",
       "2022-05-12  253.220001  138.800003  226.666672  142.770004  233.666672   \n",
       "2022-05-13  262.450012  143.110001  250.523331  144.589996  257.826660   \n",
       "\n",
       "               Volume             \n",
       "                 AAPL       TSLA  \n",
       "Date                              \n",
       "2022-05-09  131577900   90810300  \n",
       "2022-05-10  115366700   84401700  \n",
       "2022-05-11  142689800   97224600  \n",
       "2022-05-12  182602000  140313000  \n",
       "2022-05-13  113990900   92150700  "
      ]
     },
     "execution_count": 175,
     "metadata": {},
     "output_type": "execute_result"
    }
   ],
   "source": [
    "start_date = datetime(2022, 5, 8)\n",
    "end_date = datetime(2023, 4, 8)\n",
    "tickers = ['AAPL', 'TSLA']\n",
    "\n",
    "df = yf.download(tickers, start=start_date, end=end_date, progress=False)\n",
    "df.head()"
   ]
  },
  {
   "cell_type": "code",
   "execution_count": 176,
   "id": "80bddcd0",
   "metadata": {
    "colab": {
     "base_uri": "https://localhost:8080/",
     "height": 237
    },
    "id": "80bddcd0",
    "outputId": "c692f797-366f-44e4-9d99-fe13ae4d1e6f"
   },
   "outputs": [
    {
     "data": {
      "text/html": [
       "<div>\n",
       "<style scoped>\n",
       "    .dataframe tbody tr th:only-of-type {\n",
       "        vertical-align: middle;\n",
       "    }\n",
       "\n",
       "    .dataframe tbody tr th {\n",
       "        vertical-align: top;\n",
       "    }\n",
       "\n",
       "    .dataframe thead tr th {\n",
       "        text-align: left;\n",
       "    }\n",
       "\n",
       "    .dataframe thead tr:last-of-type th {\n",
       "        text-align: right;\n",
       "    }\n",
       "</style>\n",
       "<table border=\"1\" class=\"dataframe\">\n",
       "  <thead>\n",
       "    <tr>\n",
       "      <th></th>\n",
       "      <th colspan=\"2\" halign=\"left\">Adj Close</th>\n",
       "      <th colspan=\"2\" halign=\"left\">Close</th>\n",
       "      <th colspan=\"2\" halign=\"left\">High</th>\n",
       "      <th colspan=\"2\" halign=\"left\">Low</th>\n",
       "      <th colspan=\"2\" halign=\"left\">Open</th>\n",
       "      <th colspan=\"2\" halign=\"left\">Volume</th>\n",
       "    </tr>\n",
       "    <tr>\n",
       "      <th></th>\n",
       "      <th>AAPL</th>\n",
       "      <th>TSLA</th>\n",
       "      <th>AAPL</th>\n",
       "      <th>TSLA</th>\n",
       "      <th>AAPL</th>\n",
       "      <th>TSLA</th>\n",
       "      <th>AAPL</th>\n",
       "      <th>TSLA</th>\n",
       "      <th>AAPL</th>\n",
       "      <th>TSLA</th>\n",
       "      <th>AAPL</th>\n",
       "      <th>TSLA</th>\n",
       "    </tr>\n",
       "    <tr>\n",
       "      <th>Date</th>\n",
       "      <th></th>\n",
       "      <th></th>\n",
       "      <th></th>\n",
       "      <th></th>\n",
       "      <th></th>\n",
       "      <th></th>\n",
       "      <th></th>\n",
       "      <th></th>\n",
       "      <th></th>\n",
       "      <th></th>\n",
       "      <th></th>\n",
       "      <th></th>\n",
       "    </tr>\n",
       "  </thead>\n",
       "  <tbody>\n",
       "    <tr>\n",
       "      <th>2023-03-31</th>\n",
       "      <td>164.233765</td>\n",
       "      <td>207.460007</td>\n",
       "      <td>164.899994</td>\n",
       "      <td>207.460007</td>\n",
       "      <td>165.000000</td>\n",
       "      <td>207.789993</td>\n",
       "      <td>161.910004</td>\n",
       "      <td>197.199997</td>\n",
       "      <td>162.440002</td>\n",
       "      <td>197.529999</td>\n",
       "      <td>68749800</td>\n",
       "      <td>170222100</td>\n",
       "    </tr>\n",
       "    <tr>\n",
       "      <th>2023-04-03</th>\n",
       "      <td>165.498657</td>\n",
       "      <td>194.770004</td>\n",
       "      <td>166.169998</td>\n",
       "      <td>194.770004</td>\n",
       "      <td>166.289993</td>\n",
       "      <td>202.690002</td>\n",
       "      <td>164.220001</td>\n",
       "      <td>192.199997</td>\n",
       "      <td>164.270004</td>\n",
       "      <td>199.910004</td>\n",
       "      <td>56976200</td>\n",
       "      <td>169545900</td>\n",
       "    </tr>\n",
       "    <tr>\n",
       "      <th>2023-04-04</th>\n",
       "      <td>164.960846</td>\n",
       "      <td>192.580002</td>\n",
       "      <td>165.630005</td>\n",
       "      <td>192.580002</td>\n",
       "      <td>166.839996</td>\n",
       "      <td>198.740005</td>\n",
       "      <td>165.110001</td>\n",
       "      <td>190.320007</td>\n",
       "      <td>166.600006</td>\n",
       "      <td>197.320007</td>\n",
       "      <td>46278300</td>\n",
       "      <td>126463800</td>\n",
       "    </tr>\n",
       "    <tr>\n",
       "      <th>2023-04-05</th>\n",
       "      <td>163.098389</td>\n",
       "      <td>185.520004</td>\n",
       "      <td>163.759995</td>\n",
       "      <td>185.520004</td>\n",
       "      <td>165.050003</td>\n",
       "      <td>190.679993</td>\n",
       "      <td>161.800003</td>\n",
       "      <td>183.759995</td>\n",
       "      <td>164.740005</td>\n",
       "      <td>190.520004</td>\n",
       "      <td>51511700</td>\n",
       "      <td>133882500</td>\n",
       "    </tr>\n",
       "    <tr>\n",
       "      <th>2023-04-06</th>\n",
       "      <td>163.994766</td>\n",
       "      <td>185.059998</td>\n",
       "      <td>164.660004</td>\n",
       "      <td>185.059998</td>\n",
       "      <td>164.960007</td>\n",
       "      <td>186.389999</td>\n",
       "      <td>162.000000</td>\n",
       "      <td>179.740005</td>\n",
       "      <td>162.429993</td>\n",
       "      <td>183.080002</td>\n",
       "      <td>45390100</td>\n",
       "      <td>123857900</td>\n",
       "    </tr>\n",
       "  </tbody>\n",
       "</table>\n",
       "</div>"
      ],
      "text/plain": [
       "             Adj Close                   Close                    High  \\\n",
       "                  AAPL        TSLA        AAPL        TSLA        AAPL   \n",
       "Date                                                                     \n",
       "2023-03-31  164.233765  207.460007  164.899994  207.460007  165.000000   \n",
       "2023-04-03  165.498657  194.770004  166.169998  194.770004  166.289993   \n",
       "2023-04-04  164.960846  192.580002  165.630005  192.580002  166.839996   \n",
       "2023-04-05  163.098389  185.520004  163.759995  185.520004  165.050003   \n",
       "2023-04-06  163.994766  185.059998  164.660004  185.059998  164.960007   \n",
       "\n",
       "                               Low                    Open              \\\n",
       "                  TSLA        AAPL        TSLA        AAPL        TSLA   \n",
       "Date                                                                     \n",
       "2023-03-31  207.789993  161.910004  197.199997  162.440002  197.529999   \n",
       "2023-04-03  202.690002  164.220001  192.199997  164.270004  199.910004   \n",
       "2023-04-04  198.740005  165.110001  190.320007  166.600006  197.320007   \n",
       "2023-04-05  190.679993  161.800003  183.759995  164.740005  190.520004   \n",
       "2023-04-06  186.389999  162.000000  179.740005  162.429993  183.080002   \n",
       "\n",
       "              Volume             \n",
       "                AAPL       TSLA  \n",
       "Date                             \n",
       "2023-03-31  68749800  170222100  \n",
       "2023-04-03  56976200  169545900  \n",
       "2023-04-04  46278300  126463800  \n",
       "2023-04-05  51511700  133882500  \n",
       "2023-04-06  45390100  123857900  "
      ]
     },
     "execution_count": 176,
     "metadata": {},
     "output_type": "execute_result"
    }
   ],
   "source": [
    "df.tail()"
   ]
  },
  {
   "cell_type": "code",
   "execution_count": 177,
   "id": "d93e9bc0",
   "metadata": {
    "colab": {
     "base_uri": "https://localhost:8080/",
     "height": 237
    },
    "id": "d93e9bc0",
    "outputId": "7fdd73ed-d708-47b3-ee35-01c913c69118"
   },
   "outputs": [
    {
     "data": {
      "text/html": [
       "<div>\n",
       "<style scoped>\n",
       "    .dataframe tbody tr th:only-of-type {\n",
       "        vertical-align: middle;\n",
       "    }\n",
       "\n",
       "    .dataframe tbody tr th {\n",
       "        vertical-align: top;\n",
       "    }\n",
       "\n",
       "    .dataframe thead tr th {\n",
       "        text-align: left;\n",
       "    }\n",
       "\n",
       "    .dataframe thead tr:last-of-type th {\n",
       "        text-align: right;\n",
       "    }\n",
       "</style>\n",
       "<table border=\"1\" class=\"dataframe\">\n",
       "  <thead>\n",
       "    <tr>\n",
       "      <th></th>\n",
       "      <th colspan=\"2\" halign=\"left\">Close</th>\n",
       "      <th colspan=\"2\" halign=\"left\">High</th>\n",
       "      <th colspan=\"2\" halign=\"left\">Low</th>\n",
       "      <th colspan=\"2\" halign=\"left\">Open</th>\n",
       "      <th colspan=\"2\" halign=\"left\">Volume</th>\n",
       "    </tr>\n",
       "    <tr>\n",
       "      <th></th>\n",
       "      <th>AAPL</th>\n",
       "      <th>TSLA</th>\n",
       "      <th>AAPL</th>\n",
       "      <th>TSLA</th>\n",
       "      <th>AAPL</th>\n",
       "      <th>TSLA</th>\n",
       "      <th>AAPL</th>\n",
       "      <th>TSLA</th>\n",
       "      <th>AAPL</th>\n",
       "      <th>TSLA</th>\n",
       "    </tr>\n",
       "    <tr>\n",
       "      <th>Date</th>\n",
       "      <th></th>\n",
       "      <th></th>\n",
       "      <th></th>\n",
       "      <th></th>\n",
       "      <th></th>\n",
       "      <th></th>\n",
       "      <th></th>\n",
       "      <th></th>\n",
       "      <th></th>\n",
       "      <th></th>\n",
       "    </tr>\n",
       "  </thead>\n",
       "  <tbody>\n",
       "    <tr>\n",
       "      <th>2022-05-09</th>\n",
       "      <td>152.059998</td>\n",
       "      <td>262.369995</td>\n",
       "      <td>155.830002</td>\n",
       "      <td>281.876678</td>\n",
       "      <td>151.490005</td>\n",
       "      <td>260.383331</td>\n",
       "      <td>154.929993</td>\n",
       "      <td>278.816681</td>\n",
       "      <td>131577900</td>\n",
       "      <td>90810300</td>\n",
       "    </tr>\n",
       "    <tr>\n",
       "      <th>2022-05-10</th>\n",
       "      <td>154.509995</td>\n",
       "      <td>266.679993</td>\n",
       "      <td>156.740005</td>\n",
       "      <td>275.119995</td>\n",
       "      <td>152.929993</td>\n",
       "      <td>258.083344</td>\n",
       "      <td>155.520004</td>\n",
       "      <td>273.103333</td>\n",
       "      <td>115366700</td>\n",
       "      <td>84401700</td>\n",
       "    </tr>\n",
       "    <tr>\n",
       "      <th>2022-05-11</th>\n",
       "      <td>146.500000</td>\n",
       "      <td>244.666672</td>\n",
       "      <td>155.449997</td>\n",
       "      <td>269.923340</td>\n",
       "      <td>145.809998</td>\n",
       "      <td>242.399994</td>\n",
       "      <td>153.500000</td>\n",
       "      <td>265.000000</td>\n",
       "      <td>142689800</td>\n",
       "      <td>97224600</td>\n",
       "    </tr>\n",
       "    <tr>\n",
       "      <th>2022-05-12</th>\n",
       "      <td>142.559998</td>\n",
       "      <td>242.666672</td>\n",
       "      <td>146.199997</td>\n",
       "      <td>253.220001</td>\n",
       "      <td>138.800003</td>\n",
       "      <td>226.666672</td>\n",
       "      <td>142.770004</td>\n",
       "      <td>233.666672</td>\n",
       "      <td>182602000</td>\n",
       "      <td>140313000</td>\n",
       "    </tr>\n",
       "    <tr>\n",
       "      <th>2022-05-13</th>\n",
       "      <td>147.110001</td>\n",
       "      <td>256.529999</td>\n",
       "      <td>148.100006</td>\n",
       "      <td>262.450012</td>\n",
       "      <td>143.110001</td>\n",
       "      <td>250.523331</td>\n",
       "      <td>144.589996</td>\n",
       "      <td>257.826660</td>\n",
       "      <td>113990900</td>\n",
       "      <td>92150700</td>\n",
       "    </tr>\n",
       "  </tbody>\n",
       "</table>\n",
       "</div>"
      ],
      "text/plain": [
       "                 Close                    High                     Low  \\\n",
       "                  AAPL        TSLA        AAPL        TSLA        AAPL   \n",
       "Date                                                                     \n",
       "2022-05-09  152.059998  262.369995  155.830002  281.876678  151.490005   \n",
       "2022-05-10  154.509995  266.679993  156.740005  275.119995  152.929993   \n",
       "2022-05-11  146.500000  244.666672  155.449997  269.923340  145.809998   \n",
       "2022-05-12  142.559998  242.666672  146.199997  253.220001  138.800003   \n",
       "2022-05-13  147.110001  256.529999  148.100006  262.450012  143.110001   \n",
       "\n",
       "                              Open                 Volume             \n",
       "                  TSLA        AAPL        TSLA       AAPL       TSLA  \n",
       "Date                                                                  \n",
       "2022-05-09  260.383331  154.929993  278.816681  131577900   90810300  \n",
       "2022-05-10  258.083344  155.520004  273.103333  115366700   84401700  \n",
       "2022-05-11  242.399994  153.500000  265.000000  142689800   97224600  \n",
       "2022-05-12  226.666672  142.770004  233.666672  182602000  140313000  \n",
       "2022-05-13  250.523331  144.589996  257.826660  113990900   92150700  "
      ]
     },
     "execution_count": 177,
     "metadata": {},
     "output_type": "execute_result"
    }
   ],
   "source": [
    "df = df.drop(['Adj Close'], axis = 1)\n",
    "df.head()"
   ]
  },
  {
   "cell_type": "code",
   "execution_count": 178,
   "id": "1d80e713",
   "metadata": {
    "colab": {
     "base_uri": "https://localhost:8080/",
     "height": 423
    },
    "id": "1d80e713",
    "outputId": "a7850dc0-2b37-4cde-f98d-4c169bb7bea4"
   },
   "outputs": [
    {
     "name": "stderr",
     "output_type": "stream",
     "text": [
      "C:\\Users\\rishm\\AppData\\Local\\Temp\\ipykernel_26856\\1355882422.py:2: PerformanceWarning: dropping on a non-lexsorted multi-index without a level parameter may impact performance.\n",
      "  df.drop(columns=['Date'])\n"
     ]
    },
    {
     "data": {
      "text/html": [
       "<div>\n",
       "<style scoped>\n",
       "    .dataframe tbody tr th:only-of-type {\n",
       "        vertical-align: middle;\n",
       "    }\n",
       "\n",
       "    .dataframe tbody tr th {\n",
       "        vertical-align: top;\n",
       "    }\n",
       "\n",
       "    .dataframe thead tr th {\n",
       "        text-align: left;\n",
       "    }\n",
       "</style>\n",
       "<table border=\"1\" class=\"dataframe\">\n",
       "  <thead>\n",
       "    <tr>\n",
       "      <th></th>\n",
       "      <th colspan=\"2\" halign=\"left\">Close</th>\n",
       "      <th colspan=\"2\" halign=\"left\">High</th>\n",
       "      <th colspan=\"2\" halign=\"left\">Low</th>\n",
       "      <th colspan=\"2\" halign=\"left\">Open</th>\n",
       "      <th colspan=\"2\" halign=\"left\">Volume</th>\n",
       "    </tr>\n",
       "    <tr>\n",
       "      <th></th>\n",
       "      <th>AAPL</th>\n",
       "      <th>TSLA</th>\n",
       "      <th>AAPL</th>\n",
       "      <th>TSLA</th>\n",
       "      <th>AAPL</th>\n",
       "      <th>TSLA</th>\n",
       "      <th>AAPL</th>\n",
       "      <th>TSLA</th>\n",
       "      <th>AAPL</th>\n",
       "      <th>TSLA</th>\n",
       "    </tr>\n",
       "  </thead>\n",
       "  <tbody>\n",
       "    <tr>\n",
       "      <th>0</th>\n",
       "      <td>152.059998</td>\n",
       "      <td>262.369995</td>\n",
       "      <td>155.830002</td>\n",
       "      <td>281.876678</td>\n",
       "      <td>151.490005</td>\n",
       "      <td>260.383331</td>\n",
       "      <td>154.929993</td>\n",
       "      <td>278.816681</td>\n",
       "      <td>131577900</td>\n",
       "      <td>90810300</td>\n",
       "    </tr>\n",
       "    <tr>\n",
       "      <th>1</th>\n",
       "      <td>154.509995</td>\n",
       "      <td>266.679993</td>\n",
       "      <td>156.740005</td>\n",
       "      <td>275.119995</td>\n",
       "      <td>152.929993</td>\n",
       "      <td>258.083344</td>\n",
       "      <td>155.520004</td>\n",
       "      <td>273.103333</td>\n",
       "      <td>115366700</td>\n",
       "      <td>84401700</td>\n",
       "    </tr>\n",
       "    <tr>\n",
       "      <th>2</th>\n",
       "      <td>146.500000</td>\n",
       "      <td>244.666672</td>\n",
       "      <td>155.449997</td>\n",
       "      <td>269.923340</td>\n",
       "      <td>145.809998</td>\n",
       "      <td>242.399994</td>\n",
       "      <td>153.500000</td>\n",
       "      <td>265.000000</td>\n",
       "      <td>142689800</td>\n",
       "      <td>97224600</td>\n",
       "    </tr>\n",
       "    <tr>\n",
       "      <th>3</th>\n",
       "      <td>142.559998</td>\n",
       "      <td>242.666672</td>\n",
       "      <td>146.199997</td>\n",
       "      <td>253.220001</td>\n",
       "      <td>138.800003</td>\n",
       "      <td>226.666672</td>\n",
       "      <td>142.770004</td>\n",
       "      <td>233.666672</td>\n",
       "      <td>182602000</td>\n",
       "      <td>140313000</td>\n",
       "    </tr>\n",
       "    <tr>\n",
       "      <th>4</th>\n",
       "      <td>147.110001</td>\n",
       "      <td>256.529999</td>\n",
       "      <td>148.100006</td>\n",
       "      <td>262.450012</td>\n",
       "      <td>143.110001</td>\n",
       "      <td>250.523331</td>\n",
       "      <td>144.589996</td>\n",
       "      <td>257.826660</td>\n",
       "      <td>113990900</td>\n",
       "      <td>92150700</td>\n",
       "    </tr>\n",
       "    <tr>\n",
       "      <th>...</th>\n",
       "      <td>...</td>\n",
       "      <td>...</td>\n",
       "      <td>...</td>\n",
       "      <td>...</td>\n",
       "      <td>...</td>\n",
       "      <td>...</td>\n",
       "      <td>...</td>\n",
       "      <td>...</td>\n",
       "      <td>...</td>\n",
       "      <td>...</td>\n",
       "    </tr>\n",
       "    <tr>\n",
       "      <th>225</th>\n",
       "      <td>164.899994</td>\n",
       "      <td>207.460007</td>\n",
       "      <td>165.000000</td>\n",
       "      <td>207.789993</td>\n",
       "      <td>161.910004</td>\n",
       "      <td>197.199997</td>\n",
       "      <td>162.440002</td>\n",
       "      <td>197.529999</td>\n",
       "      <td>68749800</td>\n",
       "      <td>170222100</td>\n",
       "    </tr>\n",
       "    <tr>\n",
       "      <th>226</th>\n",
       "      <td>166.169998</td>\n",
       "      <td>194.770004</td>\n",
       "      <td>166.289993</td>\n",
       "      <td>202.690002</td>\n",
       "      <td>164.220001</td>\n",
       "      <td>192.199997</td>\n",
       "      <td>164.270004</td>\n",
       "      <td>199.910004</td>\n",
       "      <td>56976200</td>\n",
       "      <td>169545900</td>\n",
       "    </tr>\n",
       "    <tr>\n",
       "      <th>227</th>\n",
       "      <td>165.630005</td>\n",
       "      <td>192.580002</td>\n",
       "      <td>166.839996</td>\n",
       "      <td>198.740005</td>\n",
       "      <td>165.110001</td>\n",
       "      <td>190.320007</td>\n",
       "      <td>166.600006</td>\n",
       "      <td>197.320007</td>\n",
       "      <td>46278300</td>\n",
       "      <td>126463800</td>\n",
       "    </tr>\n",
       "    <tr>\n",
       "      <th>228</th>\n",
       "      <td>163.759995</td>\n",
       "      <td>185.520004</td>\n",
       "      <td>165.050003</td>\n",
       "      <td>190.679993</td>\n",
       "      <td>161.800003</td>\n",
       "      <td>183.759995</td>\n",
       "      <td>164.740005</td>\n",
       "      <td>190.520004</td>\n",
       "      <td>51511700</td>\n",
       "      <td>133882500</td>\n",
       "    </tr>\n",
       "    <tr>\n",
       "      <th>229</th>\n",
       "      <td>164.660004</td>\n",
       "      <td>185.059998</td>\n",
       "      <td>164.960007</td>\n",
       "      <td>186.389999</td>\n",
       "      <td>162.000000</td>\n",
       "      <td>179.740005</td>\n",
       "      <td>162.429993</td>\n",
       "      <td>183.080002</td>\n",
       "      <td>45390100</td>\n",
       "      <td>123857900</td>\n",
       "    </tr>\n",
       "  </tbody>\n",
       "</table>\n",
       "<p>230 rows × 10 columns</p>\n",
       "</div>"
      ],
      "text/plain": [
       "          Close                    High                     Low              \\\n",
       "           AAPL        TSLA        AAPL        TSLA        AAPL        TSLA   \n",
       "0    152.059998  262.369995  155.830002  281.876678  151.490005  260.383331   \n",
       "1    154.509995  266.679993  156.740005  275.119995  152.929993  258.083344   \n",
       "2    146.500000  244.666672  155.449997  269.923340  145.809998  242.399994   \n",
       "3    142.559998  242.666672  146.199997  253.220001  138.800003  226.666672   \n",
       "4    147.110001  256.529999  148.100006  262.450012  143.110001  250.523331   \n",
       "..          ...         ...         ...         ...         ...         ...   \n",
       "225  164.899994  207.460007  165.000000  207.789993  161.910004  197.199997   \n",
       "226  166.169998  194.770004  166.289993  202.690002  164.220001  192.199997   \n",
       "227  165.630005  192.580002  166.839996  198.740005  165.110001  190.320007   \n",
       "228  163.759995  185.520004  165.050003  190.679993  161.800003  183.759995   \n",
       "229  164.660004  185.059998  164.960007  186.389999  162.000000  179.740005   \n",
       "\n",
       "           Open                 Volume             \n",
       "           AAPL        TSLA       AAPL       TSLA  \n",
       "0    154.929993  278.816681  131577900   90810300  \n",
       "1    155.520004  273.103333  115366700   84401700  \n",
       "2    153.500000  265.000000  142689800   97224600  \n",
       "3    142.770004  233.666672  182602000  140313000  \n",
       "4    144.589996  257.826660  113990900   92150700  \n",
       "..          ...         ...        ...        ...  \n",
       "225  162.440002  197.529999   68749800  170222100  \n",
       "226  164.270004  199.910004   56976200  169545900  \n",
       "227  166.600006  197.320007   46278300  126463800  \n",
       "228  164.740005  190.520004   51511700  133882500  \n",
       "229  162.429993  183.080002   45390100  123857900  \n",
       "\n",
       "[230 rows x 10 columns]"
      ]
     },
     "execution_count": 178,
     "metadata": {},
     "output_type": "execute_result"
    }
   ],
   "source": [
    "df.reset_index(inplace=True)\n",
    "df.drop(columns=['Date'])"
   ]
  },
  {
   "cell_type": "code",
   "execution_count": 179,
   "id": "157872c8",
   "metadata": {
    "colab": {
     "base_uri": "https://localhost:8080/",
     "height": 447
    },
    "id": "157872c8",
    "outputId": "e4739184-b28c-49a6-f792-a057aaa082e4"
   },
   "outputs": [
    {
     "data": {
      "text/plain": [
       "[<matplotlib.lines.Line2D at 0x1bb175d3b10>,\n",
       " <matplotlib.lines.Line2D at 0x1bb175f1250>]"
      ]
     },
     "execution_count": 179,
     "metadata": {},
     "output_type": "execute_result"
    },
    {
     "data": {
      "image/png": "[encoded data removed]",
      "text/plain": [
       "<Figure size 640x480 with 1 Axes>"
      ]
     },
     "metadata": {},
     "output_type": "display_data"
    }
   ],
   "source": [
    "plt.plot(df.Close)"
   ]
  },
  {
   "cell_type": "code",
   "execution_count": 180,
   "id": "7da6c247",
   "metadata": {
    "colab": {
     "base_uri": "https://localhost:8080/",
     "height": 423
    },
    "id": "7da6c247",
    "outputId": "7d861901-7313-4123-d0c5-47a96ea20b08"
   },
   "outputs": [
    {
     "data": {
      "text/html": [
       "<div>\n",
       "<style scoped>\n",
       "    .dataframe tbody tr th:only-of-type {\n",
       "        vertical-align: middle;\n",
       "    }\n",
       "\n",
       "    .dataframe tbody tr th {\n",
       "        vertical-align: top;\n",
       "    }\n",
       "\n",
       "    .dataframe thead tr th {\n",
       "        text-align: left;\n",
       "    }\n",
       "</style>\n",
       "<table border=\"1\" class=\"dataframe\">\n",
       "  <thead>\n",
       "    <tr>\n",
       "      <th></th>\n",
       "      <th>Date</th>\n",
       "      <th colspan=\"2\" halign=\"left\">Close</th>\n",
       "      <th colspan=\"2\" halign=\"left\">High</th>\n",
       "      <th colspan=\"2\" halign=\"left\">Low</th>\n",
       "      <th colspan=\"2\" halign=\"left\">Open</th>\n",
       "      <th colspan=\"2\" halign=\"left\">Volume</th>\n",
       "    </tr>\n",
       "    <tr>\n",
       "      <th></th>\n",
       "      <th></th>\n",
       "      <th>AAPL</th>\n",
       "      <th>TSLA</th>\n",
       "      <th>AAPL</th>\n",
       "      <th>TSLA</th>\n",
       "      <th>AAPL</th>\n",
       "      <th>TSLA</th>\n",
       "      <th>AAPL</th>\n",
       "      <th>TSLA</th>\n",
       "      <th>AAPL</th>\n",
       "      <th>TSLA</th>\n",
       "    </tr>\n",
       "  </thead>\n",
       "  <tbody>\n",
       "    <tr>\n",
       "      <th>0</th>\n",
       "      <td>2022-05-09</td>\n",
       "      <td>152.059998</td>\n",
       "      <td>262.369995</td>\n",
       "      <td>155.830002</td>\n",
       "      <td>281.876678</td>\n",
       "      <td>151.490005</td>\n",
       "      <td>260.383331</td>\n",
       "      <td>154.929993</td>\n",
       "      <td>278.816681</td>\n",
       "      <td>131577900</td>\n",
       "      <td>90810300</td>\n",
       "    </tr>\n",
       "    <tr>\n",
       "      <th>1</th>\n",
       "      <td>2022-05-10</td>\n",
       "      <td>154.509995</td>\n",
       "      <td>266.679993</td>\n",
       "      <td>156.740005</td>\n",
       "      <td>275.119995</td>\n",
       "      <td>152.929993</td>\n",
       "      <td>258.083344</td>\n",
       "      <td>155.520004</td>\n",
       "      <td>273.103333</td>\n",
       "      <td>115366700</td>\n",
       "      <td>84401700</td>\n",
       "    </tr>\n",
       "    <tr>\n",
       "      <th>2</th>\n",
       "      <td>2022-05-11</td>\n",
       "      <td>146.500000</td>\n",
       "      <td>244.666672</td>\n",
       "      <td>155.449997</td>\n",
       "      <td>269.923340</td>\n",
       "      <td>145.809998</td>\n",
       "      <td>242.399994</td>\n",
       "      <td>153.500000</td>\n",
       "      <td>265.000000</td>\n",
       "      <td>142689800</td>\n",
       "      <td>97224600</td>\n",
       "    </tr>\n",
       "    <tr>\n",
       "      <th>3</th>\n",
       "      <td>2022-05-12</td>\n",
       "      <td>142.559998</td>\n",
       "      <td>242.666672</td>\n",
       "      <td>146.199997</td>\n",
       "      <td>253.220001</td>\n",
       "      <td>138.800003</td>\n",
       "      <td>226.666672</td>\n",
       "      <td>142.770004</td>\n",
       "      <td>233.666672</td>\n",
       "      <td>182602000</td>\n",
       "      <td>140313000</td>\n",
       "    </tr>\n",
       "    <tr>\n",
       "      <th>4</th>\n",
       "      <td>2022-05-13</td>\n",
       "      <td>147.110001</td>\n",
       "      <td>256.529999</td>\n",
       "      <td>148.100006</td>\n",
       "      <td>262.450012</td>\n",
       "      <td>143.110001</td>\n",
       "      <td>250.523331</td>\n",
       "      <td>144.589996</td>\n",
       "      <td>257.826660</td>\n",
       "      <td>113990900</td>\n",
       "      <td>92150700</td>\n",
       "    </tr>\n",
       "    <tr>\n",
       "      <th>...</th>\n",
       "      <td>...</td>\n",
       "      <td>...</td>\n",
       "      <td>...</td>\n",
       "      <td>...</td>\n",
       "      <td>...</td>\n",
       "      <td>...</td>\n",
       "      <td>...</td>\n",
       "      <td>...</td>\n",
       "      <td>...</td>\n",
       "      <td>...</td>\n",
       "      <td>...</td>\n",
       "    </tr>\n",
       "    <tr>\n",
       "      <th>225</th>\n",
       "      <td>2023-03-31</td>\n",
       "      <td>164.899994</td>\n",
       "      <td>207.460007</td>\n",
       "      <td>165.000000</td>\n",
       "      <td>207.789993</td>\n",
       "      <td>161.910004</td>\n",
       "      <td>197.199997</td>\n",
       "      <td>162.440002</td>\n",
       "      <td>197.529999</td>\n",
       "      <td>68749800</td>\n",
       "      <td>170222100</td>\n",
       "    </tr>\n",
       "    <tr>\n",
       "      <th>226</th>\n",
       "      <td>2023-04-03</td>\n",
       "      <td>166.169998</td>\n",
       "      <td>194.770004</td>\n",
       "      <td>166.289993</td>\n",
       "      <td>202.690002</td>\n",
       "      <td>164.220001</td>\n",
       "      <td>192.199997</td>\n",
       "      <td>164.270004</td>\n",
       "      <td>199.910004</td>\n",
       "      <td>56976200</td>\n",
       "      <td>169545900</td>\n",
       "    </tr>\n",
       "    <tr>\n",
       "      <th>227</th>\n",
       "      <td>2023-04-04</td>\n",
       "      <td>165.630005</td>\n",
       "      <td>192.580002</td>\n",
       "      <td>166.839996</td>\n",
       "      <td>198.740005</td>\n",
       "      <td>165.110001</td>\n",
       "      <td>190.320007</td>\n",
       "      <td>166.600006</td>\n",
       "      <td>197.320007</td>\n",
       "      <td>46278300</td>\n",
       "      <td>126463800</td>\n",
       "    </tr>\n",
       "    <tr>\n",
       "      <th>228</th>\n",
       "      <td>2023-04-05</td>\n",
       "      <td>163.759995</td>\n",
       "      <td>185.520004</td>\n",
       "      <td>165.050003</td>\n",
       "      <td>190.679993</td>\n",
       "      <td>161.800003</td>\n",
       "      <td>183.759995</td>\n",
       "      <td>164.740005</td>\n",
       "      <td>190.520004</td>\n",
       "      <td>51511700</td>\n",
       "      <td>133882500</td>\n",
       "    </tr>\n",
       "    <tr>\n",
       "      <th>229</th>\n",
       "      <td>2023-04-06</td>\n",
       "      <td>164.660004</td>\n",
       "      <td>185.059998</td>\n",
       "      <td>164.960007</td>\n",
       "      <td>186.389999</td>\n",
       "      <td>162.000000</td>\n",
       "      <td>179.740005</td>\n",
       "      <td>162.429993</td>\n",
       "      <td>183.080002</td>\n",
       "      <td>45390100</td>\n",
       "      <td>123857900</td>\n",
       "    </tr>\n",
       "  </tbody>\n",
       "</table>\n",
       "<p>230 rows × 11 columns</p>\n",
       "</div>"
      ],
      "text/plain": [
       "          Date       Close                    High                     Low  \\\n",
       "                      AAPL        TSLA        AAPL        TSLA        AAPL   \n",
       "0   2022-05-09  152.059998  262.369995  155.830002  281.876678  151.490005   \n",
       "1   2022-05-10  154.509995  266.679993  156.740005  275.119995  152.929993   \n",
       "2   2022-05-11  146.500000  244.666672  155.449997  269.923340  145.809998   \n",
       "3   2022-05-12  142.559998  242.666672  146.199997  253.220001  138.800003   \n",
       "4   2022-05-13  147.110001  256.529999  148.100006  262.450012  143.110001   \n",
       "..         ...         ...         ...         ...         ...         ...   \n",
       "225 2023-03-31  164.899994  207.460007  165.000000  207.789993  161.910004   \n",
       "226 2023-04-03  166.169998  194.770004  166.289993  202.690002  164.220001   \n",
       "227 2023-04-04  165.630005  192.580002  166.839996  198.740005  165.110001   \n",
       "228 2023-04-05  163.759995  185.520004  165.050003  190.679993  161.800003   \n",
       "229 2023-04-06  164.660004  185.059998  164.960007  186.389999  162.000000   \n",
       "\n",
       "                       Open                 Volume             \n",
       "           TSLA        AAPL        TSLA       AAPL       TSLA  \n",
       "0    260.383331  154.929993  278.816681  131577900   90810300  \n",
       "1    258.083344  155.520004  273.103333  115366700   84401700  \n",
       "2    242.399994  153.500000  265.000000  142689800   97224600  \n",
       "3    226.666672  142.770004  233.666672  182602000  140313000  \n",
       "4    250.523331  144.589996  257.826660  113990900   92150700  \n",
       "..          ...         ...         ...        ...        ...  \n",
       "225  197.199997  162.440002  197.529999   68749800  170222100  \n",
       "226  192.199997  164.270004  199.910004   56976200  169545900  \n",
       "227  190.320007  166.600006  197.320007   46278300  126463800  \n",
       "228  183.759995  164.740005  190.520004   51511700  133882500  \n",
       "229  179.740005  162.429993  183.080002   45390100  123857900  \n",
       "\n",
       "[230 rows x 11 columns]"
      ]
     },
     "execution_count": 180,
     "metadata": {},
     "output_type": "execute_result"
    }
   ],
   "source": [
    "df"
   ]
  },
  {
   "cell_type": "code",
   "execution_count": 181,
   "id": "98c797bd",
   "metadata": {
    "colab": {
     "base_uri": "https://localhost:8080/"
    },
    "id": "98c797bd",
    "outputId": "7f62965d-8e25-42b3-b7c5-048bf5bcf6ce"
   },
   "outputs": [
    {
     "data": {
      "text/html": [
       "<div>\n",
       "<style scoped>\n",
       "    .dataframe tbody tr th:only-of-type {\n",
       "        vertical-align: middle;\n",
       "    }\n",
       "\n",
       "    .dataframe tbody tr th {\n",
       "        vertical-align: top;\n",
       "    }\n",
       "\n",
       "    .dataframe thead th {\n",
       "        text-align: right;\n",
       "    }\n",
       "</style>\n",
       "<table border=\"1\" class=\"dataframe\">\n",
       "  <thead>\n",
       "    <tr style=\"text-align: right;\">\n",
       "      <th></th>\n",
       "      <th>AAPL</th>\n",
       "      <th>TSLA</th>\n",
       "    </tr>\n",
       "  </thead>\n",
       "  <tbody>\n",
       "    <tr>\n",
       "      <th>0</th>\n",
       "      <td>NaN</td>\n",
       "      <td>NaN</td>\n",
       "    </tr>\n",
       "    <tr>\n",
       "      <th>1</th>\n",
       "      <td>NaN</td>\n",
       "      <td>NaN</td>\n",
       "    </tr>\n",
       "    <tr>\n",
       "      <th>2</th>\n",
       "      <td>NaN</td>\n",
       "      <td>NaN</td>\n",
       "    </tr>\n",
       "    <tr>\n",
       "      <th>3</th>\n",
       "      <td>NaN</td>\n",
       "      <td>NaN</td>\n",
       "    </tr>\n",
       "    <tr>\n",
       "      <th>4</th>\n",
       "      <td>NaN</td>\n",
       "      <td>NaN</td>\n",
       "    </tr>\n",
       "    <tr>\n",
       "      <th>...</th>\n",
       "      <td>...</td>\n",
       "      <td>...</td>\n",
       "    </tr>\n",
       "    <tr>\n",
       "      <th>225</th>\n",
       "      <td>145.333499</td>\n",
       "      <td>171.7865</td>\n",
       "    </tr>\n",
       "    <tr>\n",
       "      <th>226</th>\n",
       "      <td>145.605999</td>\n",
       "      <td>171.7634</td>\n",
       "    </tr>\n",
       "    <tr>\n",
       "      <th>227</th>\n",
       "      <td>145.867299</td>\n",
       "      <td>171.7762</td>\n",
       "    </tr>\n",
       "    <tr>\n",
       "      <th>228</th>\n",
       "      <td>146.156199</td>\n",
       "      <td>171.8555</td>\n",
       "    </tr>\n",
       "    <tr>\n",
       "      <th>229</th>\n",
       "      <td>146.334099</td>\n",
       "      <td>171.7989</td>\n",
       "    </tr>\n",
       "  </tbody>\n",
       "</table>\n",
       "<p>230 rows × 2 columns</p>\n",
       "</div>"
      ],
      "text/plain": [
       "           AAPL      TSLA\n",
       "0           NaN       NaN\n",
       "1           NaN       NaN\n",
       "2           NaN       NaN\n",
       "3           NaN       NaN\n",
       "4           NaN       NaN\n",
       "..          ...       ...\n",
       "225  145.333499  171.7865\n",
       "226  145.605999  171.7634\n",
       "227  145.867299  171.7762\n",
       "228  146.156199  171.8555\n",
       "229  146.334099  171.7989\n",
       "\n",
       "[230 rows x 2 columns]"
      ]
     },
     "execution_count": 181,
     "metadata": {},
     "output_type": "execute_result"
    }
   ],
   "source": [
    "ma100 = df.Close.rolling(100).mean()\n",
    "ma100"
   ]
  },
  {
   "cell_type": "code",
   "execution_count": 182,
   "id": "a6d019df",
   "metadata": {
    "colab": {
     "base_uri": "https://localhost:8080/",
     "height": 539
    },
    "id": "a6d019df",
    "outputId": "1c222bf8-f1fa-4ef7-f579-16e4c5b65794"
   },
   "outputs": [
    {
     "data": {
      "text/plain": [
       "[<matplotlib.lines.Line2D at 0x1bb17627950>,\n",
       " <matplotlib.lines.Line2D at 0x1bb175142d0>]"
      ]
     },
     "execution_count": 182,
     "metadata": {},
     "output_type": "execute_result"
    },
    {
     "data": {
      "image/png": "[encoded data removed]",
      "text/plain": [
       "<Figure size 1200x600 with 1 Axes>"
      ]
     },
     "metadata": {},
     "output_type": "display_data"
    }
   ],
   "source": [
    "plt.figure(figsize = (12,6))\n",
    "plt.plot(df.Close)\n",
    "plt.plot(ma100, 'r')"
   ]
  },
  {
   "cell_type": "code",
   "execution_count": 183,
   "id": "8e4c30cc",
   "metadata": {
    "colab": {
     "base_uri": "https://localhost:8080/"
    },
    "id": "8e4c30cc",
    "outputId": "08fb7346-fadf-4b77-b14a-4a9f41874ef0"
   },
   "outputs": [
    {
     "data": {
      "text/html": [
       "<div>\n",
       "<style scoped>\n",
       "    .dataframe tbody tr th:only-of-type {\n",
       "        vertical-align: middle;\n",
       "    }\n",
       "\n",
       "    .dataframe tbody tr th {\n",
       "        vertical-align: top;\n",
       "    }\n",
       "\n",
       "    .dataframe thead th {\n",
       "        text-align: right;\n",
       "    }\n",
       "</style>\n",
       "<table border=\"1\" class=\"dataframe\">\n",
       "  <thead>\n",
       "    <tr style=\"text-align: right;\">\n",
       "      <th></th>\n",
       "      <th>AAPL</th>\n",
       "      <th>TSLA</th>\n",
       "    </tr>\n",
       "  </thead>\n",
       "  <tbody>\n",
       "    <tr>\n",
       "      <th>0</th>\n",
       "      <td>NaN</td>\n",
       "      <td>NaN</td>\n",
       "    </tr>\n",
       "    <tr>\n",
       "      <th>1</th>\n",
       "      <td>NaN</td>\n",
       "      <td>NaN</td>\n",
       "    </tr>\n",
       "    <tr>\n",
       "      <th>2</th>\n",
       "      <td>NaN</td>\n",
       "      <td>NaN</td>\n",
       "    </tr>\n",
       "    <tr>\n",
       "      <th>3</th>\n",
       "      <td>NaN</td>\n",
       "      <td>NaN</td>\n",
       "    </tr>\n",
       "    <tr>\n",
       "      <th>4</th>\n",
       "      <td>NaN</td>\n",
       "      <td>NaN</td>\n",
       "    </tr>\n",
       "    <tr>\n",
       "      <th>...</th>\n",
       "      <td>...</td>\n",
       "      <td>...</td>\n",
       "    </tr>\n",
       "    <tr>\n",
       "      <th>225</th>\n",
       "      <td>148.498249</td>\n",
       "      <td>215.824434</td>\n",
       "    </tr>\n",
       "    <tr>\n",
       "      <th>226</th>\n",
       "      <td>148.651950</td>\n",
       "      <td>215.633284</td>\n",
       "    </tr>\n",
       "    <tr>\n",
       "      <th>227</th>\n",
       "      <td>148.829800</td>\n",
       "      <td>215.530684</td>\n",
       "    </tr>\n",
       "    <tr>\n",
       "      <th>228</th>\n",
       "      <td>148.990800</td>\n",
       "      <td>215.374484</td>\n",
       "    </tr>\n",
       "    <tr>\n",
       "      <th>229</th>\n",
       "      <td>149.134750</td>\n",
       "      <td>215.114600</td>\n",
       "    </tr>\n",
       "  </tbody>\n",
       "</table>\n",
       "<p>230 rows × 2 columns</p>\n",
       "</div>"
      ],
      "text/plain": [
       "           AAPL        TSLA\n",
       "0           NaN         NaN\n",
       "1           NaN         NaN\n",
       "2           NaN         NaN\n",
       "3           NaN         NaN\n",
       "4           NaN         NaN\n",
       "..          ...         ...\n",
       "225  148.498249  215.824434\n",
       "226  148.651950  215.633284\n",
       "227  148.829800  215.530684\n",
       "228  148.990800  215.374484\n",
       "229  149.134750  215.114600\n",
       "\n",
       "[230 rows x 2 columns]"
      ]
     },
     "execution_count": 183,
     "metadata": {},
     "output_type": "execute_result"
    }
   ],
   "source": [
    "ma200 = df.Close.rolling(200).mean()\n",
    "ma200"
   ]
  },
  {
   "cell_type": "code",
   "execution_count": 184,
   "id": "3bf3032b",
   "metadata": {
    "colab": {
     "base_uri": "https://localhost:8080/",
     "height": 539
    },
    "id": "3bf3032b",
    "outputId": "22a01bfb-b9d6-4ee7-8eac-a8b13468bbb0"
   },
   "outputs": [
    {
     "data": {
      "text/plain": [
       "[<matplotlib.lines.Line2D at 0x1bb1992a1d0>,\n",
       " <matplotlib.lines.Line2D at 0x1bb1994d050>]"
      ]
     },
     "execution_count": 184,
     "metadata": {},
     "output_type": "execute_result"
    },
    {
     "data": {
      "image/png": "[encoded data removed]",
      "text/plain": [
       "<Figure size 1200x600 with 1 Axes>"
      ]
     },
     "metadata": {},
     "output_type": "display_data"
    }
   ],
   "source": [
    "plt.figure(figsize = (12,6))\n",
    "plt.plot(df.Close)\n",
    "plt.plot(ma100, 'r')\n",
    "plt.plot(ma200, 'g')"
   ]
  },
  {
   "cell_type": "code",
   "execution_count": 185,
   "id": "1823a31a",
   "metadata": {
    "colab": {
     "base_uri": "https://localhost:8080/"
    },
    "id": "1823a31a",
    "outputId": "c4cb4dcc-e635-4e26-a2e4-08cb4cd4714e"
   },
   "outputs": [
    {
     "data": {
      "text/plain": [
       "(230, 11)"
      ]
     },
     "execution_count": 185,
     "metadata": {},
     "output_type": "execute_result"
    }
   ],
   "source": [
    "df. shape"
   ]
  },
  {
   "cell_type": "code",
   "execution_count": 186,
   "id": "cf3071b0",
   "metadata": {
    "colab": {
     "base_uri": "https://localhost:8080/"
    },
    "id": "cf3071b0",
    "outputId": "23880f93-8ce9-41c5-deea-348c199da543"
   },
   "outputs": [
    {
     "name": "stdout",
     "output_type": "stream",
     "text": [
      "(161, 2)\n",
      "(69, 2)\n"
     ]
    }
   ],
   "source": [
    "#splitting  Data into Training and Testing\n",
    "data_training = pd.DataFrame(df['Close'][0:int(len(df)*0.70)])\n",
    "data_testing=pd.DataFrame(df['Close'][int(len(df)*0.70): int(len(df))])\n",
    "\n",
    "print(data_training.shape)\n",
    "print(data_testing.shape)"
   ]
  },
  {
   "cell_type": "code",
   "execution_count": 187,
   "id": "b8322c76",
   "metadata": {
    "colab": {
     "base_uri": "https://localhost:8080/",
     "height": 206
    },
    "id": "b8322c76",
    "outputId": "4d0df2b5-36d9-4b1c-b5ad-e4082609c454"
   },
   "outputs": [
    {
     "data": {
      "text/html": [
       "<div>\n",
       "<style scoped>\n",
       "    .dataframe tbody tr th:only-of-type {\n",
       "        vertical-align: middle;\n",
       "    }\n",
       "\n",
       "    .dataframe tbody tr th {\n",
       "        vertical-align: top;\n",
       "    }\n",
       "\n",
       "    .dataframe thead th {\n",
       "        text-align: right;\n",
       "    }\n",
       "</style>\n",
       "<table border=\"1\" class=\"dataframe\">\n",
       "  <thead>\n",
       "    <tr style=\"text-align: right;\">\n",
       "      <th></th>\n",
       "      <th>AAPL</th>\n",
       "      <th>TSLA</th>\n",
       "    </tr>\n",
       "  </thead>\n",
       "  <tbody>\n",
       "    <tr>\n",
       "      <th>0</th>\n",
       "      <td>152.059998</td>\n",
       "      <td>262.369995</td>\n",
       "    </tr>\n",
       "    <tr>\n",
       "      <th>1</th>\n",
       "      <td>154.509995</td>\n",
       "      <td>266.679993</td>\n",
       "    </tr>\n",
       "    <tr>\n",
       "      <th>2</th>\n",
       "      <td>146.500000</td>\n",
       "      <td>244.666672</td>\n",
       "    </tr>\n",
       "    <tr>\n",
       "      <th>3</th>\n",
       "      <td>142.559998</td>\n",
       "      <td>242.666672</td>\n",
       "    </tr>\n",
       "    <tr>\n",
       "      <th>4</th>\n",
       "      <td>147.110001</td>\n",
       "      <td>256.529999</td>\n",
       "    </tr>\n",
       "  </tbody>\n",
       "</table>\n",
       "</div>"
      ],
      "text/plain": [
       "         AAPL        TSLA\n",
       "0  152.059998  262.369995\n",
       "1  154.509995  266.679993\n",
       "2  146.500000  244.666672\n",
       "3  142.559998  242.666672\n",
       "4  147.110001  256.529999"
      ]
     },
     "execution_count": 187,
     "metadata": {},
     "output_type": "execute_result"
    }
   ],
   "source": [
    "data_training.head()"
   ]
  },
  {
   "cell_type": "code",
   "execution_count": 188,
   "id": "8c096527",
   "metadata": {
    "id": "8c096527"
   },
   "outputs": [],
   "source": [
    "from sklearn.preprocessing import MinMaxScaler\n",
    "scaler = MinMaxScaler(feature_range=(0,1))"
   ]
  },
  {
   "cell_type": "code",
   "execution_count": 189,
   "id": "ypgGCncuFODW",
   "metadata": {
    "colab": {
     "base_uri": "https://localhost:8080/"
    },
    "id": "ypgGCncuFODW",
    "outputId": "3c02876a-f65c-4698-ef20-36d44c4e2f55"
   },
   "outputs": [
    {
     "data": {
      "text/plain": [
       "array([[4.94833708e-01, 7.65507891e-01],\n",
       "       [5.49865080e-01, 7.87034199e-01],\n",
       "       [3.69946084e-01, 6.77088539e-01],\n",
       "       [2.81446486e-01, 6.67099527e-01],\n",
       "       [3.83647803e-01, 7.36339995e-01],\n",
       "       [3.48382593e-01, 6.61056142e-01],\n",
       "       [4.31491574e-01, 7.23054591e-01],\n",
       "       [2.42363152e-01, 6.36816144e-01],\n",
       "       [1.64420634e-01, 6.36166834e-01],\n",
       "       [1.69811250e-01, 5.60383576e-01],\n",
       "       [2.93800552e-01, 5.78696713e-01],\n",
       "       [2.32030567e-01, 5.00882380e-01],\n",
       "       [2.35624539e-01, 5.51892932e-01],\n",
       "       [3.08849925e-01, 6.33353309e-01],\n",
       "       [4.40476162e-01, 7.19758275e-01],\n",
       "       [4.22506643e-01, 7.17477383e-01],\n",
       "       [4.19586841e-01, 6.87693481e-01],\n",
       "       [4.75741372e-01, 7.45346811e-01],\n",
       "       [3.44788963e-01, 6.26394259e-01],\n",
       "       [3.61859817e-01, 6.45190264e-01],\n",
       "       [4.19586841e-01, 6.48220301e-01],\n",
       "       [4.02740481e-01, 6.63103907e-01],\n",
       "       [2.83243473e-01, 6.52315757e-01],\n",
       "       [1.59479008e-01, 6.14973488e-01],\n",
       "       [4.15544907e-02, 5.32597446e-01],\n",
       "       [6.13206529e-02, 5.58335810e-01],\n",
       "       [1.21293652e-01, 6.18819279e-01],\n",
       "       [6.73826964e-04, 5.19428644e-01],\n",
       "       [3.43665461e-02, 5.37708477e-01],\n",
       "       [1.31176904e-01, 6.38980435e-01],\n",
       "       [1.19497008e-01, 6.34235670e-01],\n",
       "       [1.85085461e-01, 6.29157943e-01],\n",
       "       [2.61230992e-01, 6.82282792e-01],\n",
       "       [2.61230992e-01, 6.78353779e-01],\n",
       "       [1.66442115e-01, 6.17137779e-01],\n",
       "       [2.06648609e-01, 5.96294085e-01],\n",
       "       [1.50269582e-01, 5.76232764e-01],\n",
       "       [1.99909996e-01, 5.90167478e-01],\n",
       "       [2.58984674e-01, 6.19152241e-01],\n",
       "       [2.89532753e-01, 6.12492925e-01],\n",
       "       [3.66576949e-01, 6.76472533e-01],\n",
       "       [3.82075312e-01, 7.07538365e-01],\n",
       "       [3.33333219e-01, 6.25528589e-01],\n",
       "       [3.55570537e-01, 6.19168931e-01],\n",
       "       [3.47259776e-01, 6.38997049e-01],\n",
       "       [4.14195882e-01, 6.45356783e-01],\n",
       "       [4.52380895e-01, 6.54113782e-01],\n",
       "       [3.82749481e-01, 6.56511123e-01],\n",
       "       [4.71024241e-01, 6.81400431e-01],\n",
       "       [5.16846188e-01, 6.91239613e-01],\n",
       "       [5.68733264e-01, 8.12139943e-01],\n",
       "       [5.40431160e-01, 8.14820405e-01],\n",
       "       [5.14824707e-01, 7.95791198e-01],\n",
       "       [4.84501466e-01, 7.47977126e-01],\n",
       "       [6.01077986e-01, 8.27689549e-01],\n",
       "       [6.13656889e-01, 8.58056077e-01],\n",
       "       [7.29559582e-01, 9.39216797e-01],\n",
       "       [7.07097770e-01, 9.39849493e-01],\n",
       "       [6.73405051e-01, 9.56381295e-01],\n",
       "       [8.10871578e-01, 9.90393868e-01],\n",
       "       [8.03683633e-01, 9.96570393e-01],\n",
       "       [7.93351391e-01, 8.94366232e-01],\n",
       "       [7.82569474e-01, 9.05620484e-01],\n",
       "       [7.83692633e-01, 8.70209456e-01],\n",
       "       [8.80727829e-01, 9.25265469e-01],\n",
       "       [8.63881470e-01, 8.86674651e-01],\n",
       "       [9.44968627e-01, 9.53600998e-01],\n",
       "       [9.69451921e-01, 1.00000000e+00],\n",
       "       [9.65857949e-01, 9.86231729e-01],\n",
       "       [1.00000000e+00, 9.73412579e-01],\n",
       "       [9.91015069e-01, 9.67785376e-01],\n",
       "       [9.31940735e-01, 9.36802766e-01],\n",
       "       [8.43216643e-01, 9.03073237e-01],\n",
       "       [8.35579366e-01, 9.35737348e-01],\n",
       "       [8.42317978e-01, 9.38950519e-01],\n",
       "       [8.98472510e-01, 9.33822798e-01],\n",
       "       [7.54492208e-01, 8.93966587e-01],\n",
       "       [7.04177967e-01, 8.77634607e-01],\n",
       "       [6.48697262e-01, 8.42073750e-01],\n",
       "       [6.10736744e-01, 8.31635099e-01],\n",
       "       [6.27358609e-01, 8.39376674e-01],\n",
       "       [5.79065506e-01, 8.04664798e-01],\n",
       "       [5.50314413e-01, 8.25691777e-01],\n",
       "       [5.82434983e-01, 8.72040785e-01],\n",
       "       [5.48742264e-01, 8.99810225e-01],\n",
       "       [6.14105879e-01, 9.51852891e-01],\n",
       "       [7.50224409e-01, 9.75526952e-01],\n",
       "       [5.34815707e-01, 9.14144433e-01],\n",
       "       [5.67834599e-01, 9.66486756e-01],\n",
       "       [5.01796815e-01, 9.72180566e-01],\n",
       "       [4.64285629e-01, 9.70182794e-01],\n",
       "       [5.49191253e-01, 9.98751374e-01],\n",
       "       [6.03548799e-01, 9.97053260e-01],\n",
       "       [5.32120399e-01, 9.57446713e-01],\n",
       "       [5.10107919e-01, 8.96463839e-01],\n",
       "       [4.58220843e-01, 8.30236643e-01],\n",
       "       [4.65858120e-01, 8.33633023e-01],\n",
       "       [4.88095095e-01, 8.68244912e-01],\n",
       "       [4.44968456e-01, 8.92568131e-01],\n",
       "       [2.79649500e-01, 7.94675786e-01],\n",
       "       [1.83512969e-01, 7.79892092e-01],\n",
       "       [2.78975673e-01, 6.65767603e-01],\n",
       "       [3.60961496e-01, 7.00928967e-01],\n",
       "       [3.67699765e-01, 6.57826357e-01],\n",
       "       [3.45911779e-01, 6.44441118e-01],\n",
       "       [2.25965782e-01, 5.69223873e-01],\n",
       "       [2.33378221e-01, 5.68674474e-01],\n",
       "       [2.01033156e-01, 5.36409933e-01],\n",
       "       [1.86657609e-01, 5.40105895e-01],\n",
       "       [2.91105244e-01, 5.62481259e-01],\n",
       "       [1.87556274e-01, 4.78923198e-01],\n",
       "       [2.78077352e-01, 5.50644305e-01],\n",
       "       [3.08176098e-01, 5.54839672e-01],\n",
       "       [3.10646912e-01, 5.64079462e-01],\n",
       "       [3.00089832e-01, 4.90360583e-01],\n",
       "       [3.87241775e-01, 5.26121263e-01],\n",
       "       [4.36208363e-01, 5.10188777e-01],\n",
       "       [5.01122988e-01, 5.65977398e-01],\n",
       "       [4.33962387e-01, 5.77065207e-01],\n",
       "       [3.31761070e-01, 5.79312720e-01],\n",
       "       [5.77493357e-01, 5.96443914e-01],\n",
       "       [5.23584801e-01, 5.91549244e-01],\n",
       "       [4.63162469e-01, 5.92947775e-01],\n",
       "       [3.36927191e-01, 5.28818263e-01],\n",
       "       [1.98787180e-01, 5.30466459e-01],\n",
       "       [1.87556274e-01, 4.91309551e-01],\n",
       "       [1.99685502e-01, 4.39416639e-01],\n",
       "       [2.12713394e-01, 4.10548401e-01],\n",
       "       [1.08715091e-01, 3.42073693e-01],\n",
       "       [3.78256845e-01, 4.07651579e-01],\n",
       "       [4.41823816e-01, 4.33872735e-01],\n",
       "       [4.09928083e-01, 4.08800294e-01],\n",
       "       [4.49460750e-01, 4.26131235e-01],\n",
       "       [4.21383484e-01, 3.88672442e-01],\n",
       "       [4.64734961e-01, 3.69943045e-01],\n",
       "       [4.77538016e-01, 3.55059439e-01],\n",
       "       [4.03863297e-01, 2.93527090e-01],\n",
       "       [4.52605390e-01, 3.03715925e-01],\n",
       "       [4.72596732e-01, 3.70092874e-01],\n",
       "       [4.06109616e-01, 3.68394760e-01],\n",
       "       [3.18733178e-01, 3.68694418e-01],\n",
       "       [2.50224580e-01, 3.58255919e-01],\n",
       "       [4.04312630e-01, 4.27529691e-01],\n",
       "       [4.10601910e-01, 4.27529691e-01],\n",
       "       [3.99371003e-01, 4.28328830e-01],\n",
       "       [3.72866229e-01, 3.66346994e-01],\n",
       "       [2.89308258e-01, 3.53211496e-01],\n",
       "       [2.45058459e-01, 3.24343182e-01],\n",
       "       [2.83467967e-01, 3.21346524e-01],\n",
       "       [2.72461898e-01, 3.49365705e-01],\n",
       "       [3.24797963e-01, 2.93277426e-01],\n",
       "       [3.46810444e-01, 2.58965119e-01],\n",
       "       [2.96046870e-01, 2.38237951e-01],\n",
       "       [1.45327956e-01, 2.42583146e-01],\n",
       "       [1.00628825e-01, 2.05424011e-01],\n",
       "       [5.25605596e-02, 2.03625986e-01],\n",
       "       [5.09884109e-02, 1.43342340e-01],\n",
       "       [1.21742984e-01, 1.42193625e-01],\n",
       "       [4.94159195e-02, 8.11607196e-02],\n",
       "       [4.11051585e-02, 7.01728220e-02],\n",
       "       [0.00000000e+00, 0.00000000e+00]])"
      ]
     },
     "execution_count": 189,
     "metadata": {},
     "output_type": "execute_result"
    }
   ],
   "source": [
    "data_training_array = scaler.fit_transform(data_training)\n",
    "data_training_array"
   ]
  },
  {
   "cell_type": "code",
   "execution_count": 190,
   "id": "7M29zz1ZGO0z",
   "metadata": {
    "colab": {
     "base_uri": "https://localhost:8080/"
    },
    "id": "7M29zz1ZGO0z",
    "outputId": "474a7d92-6deb-423b-d2b3-06ed27c29c8d"
   },
   "outputs": [
    {
     "data": {
      "text/plain": [
       "(161, 2)"
      ]
     },
     "execution_count": 190,
     "metadata": {},
     "output_type": "execute_result"
    }
   ],
   "source": [
    "data_training_array.shape"
   ]
  },
  {
   "cell_type": "code",
   "execution_count": 191,
   "id": "iARLIjnAIEyr",
   "metadata": {
    "id": "iARLIjnAIEyr"
   },
   "outputs": [],
   "source": [
    "x_train = []\n",
    "y_train = []\n",
    "\n",
    "for i in range(100, data_training_array.shape[0]):\n",
    "  x_train.append(data_training_array[i-100: i])\n",
    "  y_train.append(data_training_array[i, 0])\n",
    "\n",
    "x_train, y_train = np.array(x_train), np.array(y_train)"
   ]
  },
  {
   "cell_type": "code",
   "execution_count": 192,
   "id": "ntM1qUM9JHFN",
   "metadata": {
    "colab": {
     "base_uri": "https://localhost:8080/"
    },
    "id": "ntM1qUM9JHFN",
    "outputId": "87c1d19d-0c72-45c6-b6ec-f061752ea9aa"
   },
   "outputs": [
    {
     "data": {
      "text/plain": [
       "(61, 100, 2)"
      ]
     },
     "execution_count": 192,
     "metadata": {},
     "output_type": "execute_result"
    }
   ],
   "source": [
    "x_train.shape"
   ]
  },
  {
   "cell_type": "code",
   "execution_count": 193,
   "id": "xiUOfjF_J_m2",
   "metadata": {
    "id": "xiUOfjF_J_m2"
   },
   "outputs": [],
   "source": [
    "#ML Model"
   ]
  },
  {
   "cell_type": "code",
   "execution_count": 194,
   "id": "df57829b",
   "metadata": {
    "id": "df57829b"
   },
   "outputs": [],
   "source": [
    "from keras.models import Sequential\n",
    "from keras.layers import Dense, Dropout, LSTM, Bidirectional"
   ]
  },
  {
   "cell_type": "code",
   "execution_count": 195,
   "id": "lHp9MnqkKIHh",
   "metadata": {
    "id": "lHp9MnqkKIHh"
   },
   "outputs": [],
   "source": [
    "model = tf.keras.Sequential()\n",
    "model.add(LSTM(units=50, activation = 'relu' ,return_sequences = True,\n",
    "               input_shape = (x_train.shape[1], 1)))\n",
    "model.add(Dropout(0.1))\n",
    "\n",
    "model = Sequential()\n",
    "model.add(LSTM(units=60, activation = 'relu' ,return_sequences = True))\n",
    "model.add(Dropout(0.2))\n",
    "\n",
    "model = Sequential()\n",
    "model.add(LSTM(units=80, activation = 'relu' ,return_sequences = True))\n",
    "model.add(Dropout(0.3))\n",
    "\n",
    "model = Sequential()\n",
    "model.add(LSTM(units=120, activation = 'relu'))\n",
    "model.add(Dropout(0.5))\n",
    "\n",
    "model.add(Dense(2))\n",
    "model.compile(loss='mean_squared_error', optimizer='adam', metrics=['mean_absolute_error'])\n"
   ]
  },
  {
   "cell_type": "code",
   "execution_count": 196,
   "id": "qtpmYIud9zBu",
   "metadata": {
    "id": "qtpmYIud9zBu"
   },
   "outputs": [],
   "source": [
    "input_shape = (None,x_train.shape[1], 1)\n",
    "model.build(input_shape)"
   ]
  },
  {
   "cell_type": "code",
   "execution_count": 197,
   "id": "ODAQRlaMAoJp",
   "metadata": {
    "colab": {
     "base_uri": "https://localhost:8080/"
    },
    "id": "ODAQRlaMAoJp",
    "outputId": "e450d399-129f-4581-ff6f-c640afceba96"
   },
   "outputs": [
    {
     "name": "stdout",
     "output_type": "stream",
     "text": [
      "Model: \"sequential_19\"\n",
      "_________________________________________________________________\n",
      " Layer (type)                Output Shape              Param #   \n",
      "=================================================================\n",
      " lstm_19 (LSTM)              (None, 120)               58560     \n",
      "                                                                 \n",
      " dropout_19 (Dropout)        (None, 120)               0         \n",
      "                                                                 \n",
      " dense_4 (Dense)             (None, 2)                 242       \n",
      "                                                                 \n",
      "=================================================================\n",
      "Total params: 58802 (229.70 KB)\n",
      "Trainable params: 58802 (229.70 KB)\n",
      "Non-trainable params: 0 (0.00 Byte)\n",
      "_________________________________________________________________\n"
     ]
    }
   ],
   "source": [
    "model.summary()"
   ]
  },
  {
   "cell_type": "code",
   "execution_count": 198,
   "id": "pju5pfrTTzsu",
   "metadata": {
    "colab": {
     "base_uri": "https://localhost:8080/"
    },
    "id": "pju5pfrTTzsu",
    "outputId": "9837e0b2-de27-4abd-8ad0-247dd29e7f96"
   },
   "outputs": [
    {
     "name": "stdout",
     "output_type": "stream",
     "text": [
      "Epoch 1/50\n",
      "2/2 [==============================] - 2s 86ms/step - loss: 0.0997\n",
      "Epoch 2/50\n",
      "2/2 [==============================] - 0s 56ms/step - loss: 0.0873\n",
      "Epoch 3/50\n",
      "2/2 [==============================] - 0s 54ms/step - loss: 0.0770\n",
      "Epoch 4/50\n",
      "2/2 [==============================] - 0s 60ms/step - loss: 0.0661\n",
      "Epoch 5/50\n",
      "2/2 [==============================] - 0s 57ms/step - loss: 0.0550\n",
      "Epoch 6/50\n",
      "2/2 [==============================] - 0s 51ms/step - loss: 0.0397\n",
      "Epoch 7/50\n",
      "2/2 [==============================] - 0s 56ms/step - loss: 0.0245\n",
      "Epoch 8/50\n",
      "2/2 [==============================] - 0s 51ms/step - loss: 0.0418\n",
      "Epoch 9/50\n",
      "2/2 [==============================] - 0s 73ms/step - loss: 0.0277\n",
      "Epoch 10/50\n",
      "2/2 [==============================] - 0s 63ms/step - loss: 0.0203\n",
      "Epoch 11/50\n",
      "2/2 [==============================] - 0s 47ms/step - loss: 0.0230\n",
      "Epoch 12/50\n",
      "2/2 [==============================] - 0s 62ms/step - loss: 0.0244\n",
      "Epoch 13/50\n",
      "2/2 [==============================] - 0s 56ms/step - loss: 0.0211\n",
      "Epoch 14/50\n",
      "2/2 [==============================] - 0s 47ms/step - loss: 0.0214\n",
      "Epoch 15/50\n",
      "2/2 [==============================] - 0s 47ms/step - loss: 0.0198\n",
      "Epoch 16/50\n",
      "2/2 [==============================] - 0s 56ms/step - loss: 0.0266\n",
      "Epoch 17/50\n",
      "2/2 [==============================] - 0s 47ms/step - loss: 0.0212\n",
      "Epoch 18/50\n",
      "2/2 [==============================] - 0s 47ms/step - loss: 0.0215\n",
      "Epoch 19/50\n",
      "2/2 [==============================] - 0s 51ms/step - loss: 0.0214\n",
      "Epoch 20/50\n",
      "2/2 [==============================] - 0s 62ms/step - loss: 0.0233\n",
      "Epoch 21/50\n",
      "2/2 [==============================] - 0s 47ms/step - loss: 0.0228\n",
      "Epoch 22/50\n",
      "2/2 [==============================] - 0s 58ms/step - loss: 0.0195\n",
      "Epoch 23/50\n",
      "2/2 [==============================] - 0s 62ms/step - loss: 0.0210\n",
      "Epoch 24/50\n",
      "2/2 [==============================] - 0s 62ms/step - loss: 0.0189\n",
      "Epoch 25/50\n",
      "2/2 [==============================] - 0s 58ms/step - loss: 0.0204\n",
      "Epoch 26/50\n",
      "2/2 [==============================] - 0s 63ms/step - loss: 0.0197\n",
      "Epoch 27/50\n",
      "2/2 [==============================] - 0s 62ms/step - loss: 0.0183\n",
      "Epoch 28/50\n",
      "2/2 [==============================] - 0s 42ms/step - loss: 0.0188\n",
      "Epoch 29/50\n",
      "2/2 [==============================] - 0s 47ms/step - loss: 0.0180\n",
      "Epoch 30/50\n",
      "2/2 [==============================] - 0s 47ms/step - loss: 0.0168\n",
      "Epoch 31/50\n",
      "2/2 [==============================] - 0s 57ms/step - loss: 0.0181\n",
      "Epoch 32/50\n",
      "2/2 [==============================] - 0s 47ms/step - loss: 0.0197\n",
      "Epoch 33/50\n",
      "2/2 [==============================] - 0s 62ms/step - loss: 0.0204\n",
      "Epoch 34/50\n",
      "2/2 [==============================] - 0s 58ms/step - loss: 0.0197\n",
      "Epoch 35/50\n",
      "2/2 [==============================] - 0s 47ms/step - loss: 0.0183\n",
      "Epoch 36/50\n",
      "2/2 [==============================] - 0s 47ms/step - loss: 0.0165\n",
      "Epoch 37/50\n",
      "2/2 [==============================] - 0s 42ms/step - loss: 0.0186\n",
      "Epoch 38/50\n",
      "2/2 [==============================] - 0s 47ms/step - loss: 0.0183\n",
      "Epoch 39/50\n",
      "2/2 [==============================] - 0s 47ms/step - loss: 0.0152\n",
      "Epoch 40/50\n",
      "2/2 [==============================] - 0s 58ms/step - loss: 0.0172\n",
      "Epoch 41/50\n",
      "2/2 [==============================] - 0s 47ms/step - loss: 0.0160\n",
      "Epoch 42/50\n",
      "2/2 [==============================] - 0s 47ms/step - loss: 0.0171\n",
      "Epoch 43/50\n",
      "2/2 [==============================] - 0s 55ms/step - loss: 0.0189\n",
      "Epoch 44/50\n",
      "2/2 [==============================] - 0s 47ms/step - loss: 0.0164\n",
      "Epoch 45/50\n",
      "2/2 [==============================] - 0s 62ms/step - loss: 0.0166\n",
      "Epoch 46/50\n",
      "2/2 [==============================] - 0s 56ms/step - loss: 0.0166\n",
      "Epoch 47/50\n",
      "2/2 [==============================] - 0s 47ms/step - loss: 0.0157\n",
      "Epoch 48/50\n",
      "2/2 [==============================] - 0s 47ms/step - loss: 0.0175\n",
      "Epoch 49/50\n",
      "2/2 [==============================] - 0s 41ms/step - loss: 0.0188\n",
      "Epoch 50/50\n",
      "2/2 [==============================] - 0s 62ms/step - loss: 0.0131\n"
     ]
    },
    {
     "data": {
      "text/plain": [
       "<keras.src.callbacks.History at 0x1bb19a17210>"
      ]
     },
     "execution_count": 198,
     "metadata": {},
     "output_type": "execute_result"
    }
   ],
   "source": [
    "# Assuming x_train has shape (None, 100, 2)\n",
    "# Selecting the first feature\n",
    "x_train_single_feature = x_train[:, :, 0:1]\n",
    "\n",
    "# Now x_train_single_feature has shape (None, 100, 1)\n",
    "\n",
    "# Compile and fit the model\n",
    "model.compile(optimizer='adam', loss='mean_squared_error')\n",
    "model.fit(x_train_single_feature, y_train, epochs=50)"
   ]
  },
  {
   "cell_type": "code",
   "execution_count": 199,
   "id": "bKQbpyeiUhHP",
   "metadata": {
    "id": "bKQbpyeiUhHP"
   },
   "outputs": [
    {
     "name": "stderr",
     "output_type": "stream",
     "text": [
      "c:\\Users\\rishm\\Downloads\\Stock_trend_Prediction-main\\stock\\Lib\\site-packages\\keras\\src\\engine\\training.py:3103: UserWarning: You are saving your model as an HDF5 file via `model.save()`. This file format is considered legacy. We recommend using instead the native Keras format, e.g. `model.save('my_model.keras')`.\n",
      "  saving_api.save_model(\n"
     ]
    }
   ],
   "source": [
    "model.save('keras_model.h5')"
   ]
  },
  {
   "cell_type": "code",
   "execution_count": 200,
   "id": "0pWmP8lrU5CW",
   "metadata": {
    "colab": {
     "base_uri": "https://localhost:8080/",
     "height": 206
    },
    "id": "0pWmP8lrU5CW",
    "outputId": "8fcd5f2b-32f8-44cc-fb7c-4bc659be9d78"
   },
   "outputs": [
    {
     "data": {
      "text/html": [
       "<div>\n",
       "<style scoped>\n",
       "    .dataframe tbody tr th:only-of-type {\n",
       "        vertical-align: middle;\n",
       "    }\n",
       "\n",
       "    .dataframe tbody tr th {\n",
       "        vertical-align: top;\n",
       "    }\n",
       "\n",
       "    .dataframe thead th {\n",
       "        text-align: right;\n",
       "    }\n",
       "</style>\n",
       "<table border=\"1\" class=\"dataframe\">\n",
       "  <thead>\n",
       "    <tr style=\"text-align: right;\">\n",
       "      <th></th>\n",
       "      <th>AAPL</th>\n",
       "      <th>TSLA</th>\n",
       "    </tr>\n",
       "  </thead>\n",
       "  <tbody>\n",
       "    <tr>\n",
       "      <th>161</th>\n",
       "      <td>126.040001</td>\n",
       "      <td>112.709999</td>\n",
       "    </tr>\n",
       "    <tr>\n",
       "      <th>162</th>\n",
       "      <td>129.610001</td>\n",
       "      <td>121.820000</td>\n",
       "    </tr>\n",
       "    <tr>\n",
       "      <th>163</th>\n",
       "      <td>129.929993</td>\n",
       "      <td>123.180000</td>\n",
       "    </tr>\n",
       "    <tr>\n",
       "      <th>164</th>\n",
       "      <td>125.070000</td>\n",
       "      <td>108.099998</td>\n",
       "    </tr>\n",
       "    <tr>\n",
       "      <th>165</th>\n",
       "      <td>126.360001</td>\n",
       "      <td>113.639999</td>\n",
       "    </tr>\n",
       "  </tbody>\n",
       "</table>\n",
       "</div>"
      ],
      "text/plain": [
       "           AAPL        TSLA\n",
       "161  126.040001  112.709999\n",
       "162  129.610001  121.820000\n",
       "163  129.929993  123.180000\n",
       "164  125.070000  108.099998\n",
       "165  126.360001  113.639999"
      ]
     },
     "execution_count": 200,
     "metadata": {},
     "output_type": "execute_result"
    }
   ],
   "source": [
    "data_testing.head()"
   ]
  },
  {
   "cell_type": "code",
   "execution_count": 201,
   "id": "bxfbPzuAVBRf",
   "metadata": {
    "colab": {
     "base_uri": "https://localhost:8080/",
     "height": 423
    },
    "id": "bxfbPzuAVBRf",
    "outputId": "d3630f42-f0e8-45e4-e5f7-75f8d3519f40"
   },
   "outputs": [
    {
     "data": {
      "text/html": [
       "<div>\n",
       "<style scoped>\n",
       "    .dataframe tbody tr th:only-of-type {\n",
       "        vertical-align: middle;\n",
       "    }\n",
       "\n",
       "    .dataframe tbody tr th {\n",
       "        vertical-align: top;\n",
       "    }\n",
       "\n",
       "    .dataframe thead th {\n",
       "        text-align: right;\n",
       "    }\n",
       "</style>\n",
       "<table border=\"1\" class=\"dataframe\">\n",
       "  <thead>\n",
       "    <tr style=\"text-align: right;\">\n",
       "      <th></th>\n",
       "      <th>AAPL</th>\n",
       "      <th>TSLA</th>\n",
       "    </tr>\n",
       "  </thead>\n",
       "  <tbody>\n",
       "    <tr>\n",
       "      <th>61</th>\n",
       "      <td>165.350006</td>\n",
       "      <td>288.170013</td>\n",
       "    </tr>\n",
       "    <tr>\n",
       "      <th>62</th>\n",
       "      <td>164.869995</td>\n",
       "      <td>290.423340</td>\n",
       "    </tr>\n",
       "    <tr>\n",
       "      <th>63</th>\n",
       "      <td>164.919998</td>\n",
       "      <td>283.333344</td>\n",
       "    </tr>\n",
       "    <tr>\n",
       "      <th>64</th>\n",
       "      <td>169.240005</td>\n",
       "      <td>294.356659</td>\n",
       "    </tr>\n",
       "    <tr>\n",
       "      <th>65</th>\n",
       "      <td>168.490005</td>\n",
       "      <td>286.630005</td>\n",
       "    </tr>\n",
       "    <tr>\n",
       "      <th>...</th>\n",
       "      <td>...</td>\n",
       "      <td>...</td>\n",
       "    </tr>\n",
       "    <tr>\n",
       "      <th>156</th>\n",
       "      <td>132.300003</td>\n",
       "      <td>137.800003</td>\n",
       "    </tr>\n",
       "    <tr>\n",
       "      <th>157</th>\n",
       "      <td>135.449997</td>\n",
       "      <td>137.570007</td>\n",
       "    </tr>\n",
       "    <tr>\n",
       "      <th>158</th>\n",
       "      <td>132.229996</td>\n",
       "      <td>125.349998</td>\n",
       "    </tr>\n",
       "    <tr>\n",
       "      <th>159</th>\n",
       "      <td>131.860001</td>\n",
       "      <td>123.150002</td>\n",
       "    </tr>\n",
       "    <tr>\n",
       "      <th>160</th>\n",
       "      <td>130.029999</td>\n",
       "      <td>109.099998</td>\n",
       "    </tr>\n",
       "  </tbody>\n",
       "</table>\n",
       "<p>100 rows × 2 columns</p>\n",
       "</div>"
      ],
      "text/plain": [
       "           AAPL        TSLA\n",
       "61   165.350006  288.170013\n",
       "62   164.869995  290.423340\n",
       "63   164.919998  283.333344\n",
       "64   169.240005  294.356659\n",
       "65   168.490005  286.630005\n",
       "..          ...         ...\n",
       "156  132.300003  137.800003\n",
       "157  135.449997  137.570007\n",
       "158  132.229996  125.349998\n",
       "159  131.860001  123.150002\n",
       "160  130.029999  109.099998\n",
       "\n",
       "[100 rows x 2 columns]"
      ]
     },
     "execution_count": 201,
     "metadata": {},
     "output_type": "execute_result"
    }
   ],
   "source": [
    "data_training.tail(100)"
   ]
  },
  {
   "cell_type": "code",
   "execution_count": 202,
   "id": "S-jnX6pmVJJK",
   "metadata": {
    "id": "S-jnX6pmVJJK"
   },
   "outputs": [],
   "source": [
    "past_100_days = data_training.tail(100)"
   ]
  },
  {
   "cell_type": "code",
   "execution_count": 203,
   "id": "RhIsbKRnVcOs",
   "metadata": {
    "colab": {
     "base_uri": "https://localhost:8080/"
    },
    "id": "RhIsbKRnVcOs",
    "outputId": "168fc770-4153-40df-da8c-cf496085736c"
   },
   "outputs": [],
   "source": [
    "final_df = pd.concat([past_100_days,data_testing],ignore_index=True)"
   ]
  },
  {
   "cell_type": "code",
   "execution_count": 204,
   "id": "3v7zgpXcVy--",
   "metadata": {
    "colab": {
     "base_uri": "https://localhost:8080/",
     "height": 206
    },
    "id": "3v7zgpXcVy--",
    "outputId": "43d82a82-178b-494a-a651-0b455aa51cac"
   },
   "outputs": [
    {
     "data": {
      "text/html": [
       "<div>\n",
       "<style scoped>\n",
       "    .dataframe tbody tr th:only-of-type {\n",
       "        vertical-align: middle;\n",
       "    }\n",
       "\n",
       "    .dataframe tbody tr th {\n",
       "        vertical-align: top;\n",
       "    }\n",
       "\n",
       "    .dataframe thead th {\n",
       "        text-align: right;\n",
       "    }\n",
       "</style>\n",
       "<table border=\"1\" class=\"dataframe\">\n",
       "  <thead>\n",
       "    <tr style=\"text-align: right;\">\n",
       "      <th></th>\n",
       "      <th>AAPL</th>\n",
       "      <th>TSLA</th>\n",
       "    </tr>\n",
       "  </thead>\n",
       "  <tbody>\n",
       "    <tr>\n",
       "      <th>0</th>\n",
       "      <td>165.350006</td>\n",
       "      <td>288.170013</td>\n",
       "    </tr>\n",
       "    <tr>\n",
       "      <th>1</th>\n",
       "      <td>164.869995</td>\n",
       "      <td>290.423340</td>\n",
       "    </tr>\n",
       "    <tr>\n",
       "      <th>2</th>\n",
       "      <td>164.919998</td>\n",
       "      <td>283.333344</td>\n",
       "    </tr>\n",
       "    <tr>\n",
       "      <th>3</th>\n",
       "      <td>169.240005</td>\n",
       "      <td>294.356659</td>\n",
       "    </tr>\n",
       "    <tr>\n",
       "      <th>4</th>\n",
       "      <td>168.490005</td>\n",
       "      <td>286.630005</td>\n",
       "    </tr>\n",
       "  </tbody>\n",
       "</table>\n",
       "</div>"
      ],
      "text/plain": [
       "         AAPL        TSLA\n",
       "0  165.350006  288.170013\n",
       "1  164.869995  290.423340\n",
       "2  164.919998  283.333344\n",
       "3  169.240005  294.356659\n",
       "4  168.490005  286.630005"
      ]
     },
     "execution_count": 204,
     "metadata": {},
     "output_type": "execute_result"
    }
   ],
   "source": [
    "final_df.head()"
   ]
  },
  {
   "cell_type": "code",
   "execution_count": 205,
   "id": "IGm4TV6RV7nq",
   "metadata": {
    "colab": {
     "base_uri": "https://localhost:8080/"
    },
    "id": "IGm4TV6RV7nq",
    "outputId": "46392d59-facb-460a-b688-c581483eb4a6"
   },
   "outputs": [
    {
     "data": {
      "text/plain": [
       "array([[0.81425407, 0.8948912 ],\n",
       "       [0.80456276, 0.90608952],\n",
       "       [0.80557231, 0.87085447],\n",
       "       [0.89279231, 0.92563688],\n",
       "       [0.87764997, 0.88723784],\n",
       "       [0.9505351 , 0.95383159],\n",
       "       [0.97254189, 1.        ],\n",
       "       [0.96931145, 0.98630015],\n",
       "       [1.        , 0.97354471],\n",
       "       [0.9919239 , 0.96794547],\n",
       "       [0.93882499, 0.93711684],\n",
       "       [0.85907541, 0.90355493],\n",
       "       [0.85221065, 0.93605671],\n",
       "       [0.85826765, 0.93925392],\n",
       "       [0.9087421 , 0.93415168],\n",
       "       [0.77932553, 0.89449354],\n",
       "       [0.73410062, 0.87824272],\n",
       "       [0.68423183, 0.84285859],\n",
       "       [0.65011105, 0.83247182],\n",
       "       [0.6650516 , 0.84017492],\n",
       "       [0.62164339, 0.80563555],\n",
       "       [0.59580049, 0.82655803],\n",
       "       [0.62467204, 0.8726767 ],\n",
       "       [0.59438737, 0.90030814],\n",
       "       [0.6531394 , 0.95209217],\n",
       "       [0.77548942, 0.97564858],\n",
       "       [0.58186949, 0.91457111],\n",
       "       [0.6115485 , 0.96665331],\n",
       "       [0.55219049, 0.97231882],\n",
       "       [0.51847359, 0.97033098],\n",
       "       [0.59479094, 0.99875758],\n",
       "       [0.64365017, 0.9970679 ],\n",
       "       [0.57944682, 0.95765819],\n",
       "       [0.55966092, 0.89697838],\n",
       "       [0.51302226, 0.83108031],\n",
       "       [0.51988702, 0.83445981],\n",
       "       [0.53987471, 0.86889969],\n",
       "       [0.50111037, 0.89310203],\n",
       "       [0.35251356, 0.79569618],\n",
       "       [0.26610132, 0.78098596],\n",
       "       [0.3519079 , 0.66742863],\n",
       "       [0.42560078, 0.70241526],\n",
       "       [0.43165747, 0.65952685],\n",
       "       [0.41207336, 0.64620813],\n",
       "       [0.30426   , 0.57136469],\n",
       "       [0.31092266, 0.57081803],\n",
       "       [0.28184933, 0.53871383],\n",
       "       [0.26892788, 0.54239142],\n",
       "       [0.36281055, 0.56465559],\n",
       "       [0.26973565, 0.48151279],\n",
       "       [0.35110044, 0.55287746],\n",
       "       [0.37815467, 0.55705198],\n",
       "       [0.38037556, 0.56624585],\n",
       "       [0.37088634, 0.49289333],\n",
       "       [0.44922279, 0.52847629],\n",
       "       [0.49323636, 0.51262298],\n",
       "       [0.55158482, 0.56813435],\n",
       "       [0.49121757, 0.57916706],\n",
       "       [0.399354  , 0.5814034 ],\n",
       "       [0.62023026, 0.59844946],\n",
       "       [0.5717746 , 0.59357912],\n",
       "       [0.51746404, 0.5949707 ],\n",
       "       [0.40399757, 0.53115989],\n",
       "       [0.27983054, 0.53279989],\n",
       "       [0.26973565, 0.49383758],\n",
       "       [0.28063799, 0.44220256],\n",
       "       [0.2923481 , 0.41347779],\n",
       "       [0.19886932, 0.34534338],\n",
       "       [0.44114669, 0.41059536],\n",
       "       [0.49828381, 0.43668621],\n",
       "       [0.46961436, 0.41173837],\n",
       "       [0.50514826, 0.42898318],\n",
       "       [0.47991104, 0.39171055],\n",
       "       [0.51887747, 0.37307423],\n",
       "       [0.53038549, 0.35826459],\n",
       "       [0.46416303, 0.29703804],\n",
       "       [0.50797482, 0.30717624],\n",
       "       [0.52594402, 0.37322331],\n",
       "       [0.46618213, 0.37153364],\n",
       "       [0.38764389, 0.37183181],\n",
       "       [0.326065  , 0.36144519],\n",
       "       [0.46456691, 0.43037469],\n",
       "       [0.47022003, 0.43037469],\n",
       "       [0.46012514, 0.43116986],\n",
       "       [0.43630134, 0.36949605],\n",
       "       [0.36119533, 0.35642583],\n",
       "       [0.32142144, 0.32770098],\n",
       "       [0.35594579, 0.32471922],\n",
       "       [0.34605299, 0.35259915],\n",
       "       [0.39309522, 0.29678961],\n",
       "       [0.41288112, 0.26264783],\n",
       "       [0.36725233, 0.24202367],\n",
       "       [0.23177876, 0.24634727],\n",
       "       [0.19160098, 0.2093728 ],\n",
       "       [0.14839486, 0.20758371],\n",
       "       [0.14698174, 0.14759966],\n",
       "       [0.21057943, 0.14645665],\n",
       "       [0.14556831, 0.08572706],\n",
       "       [0.13809818, 0.07479377],\n",
       "       [0.10115085, 0.00496968],\n",
       "       [0.02059366, 0.02291025],\n",
       "       [0.09267118, 0.06818408],\n",
       "       [0.09913175, 0.07494285],\n",
       "       [0.00100955, 0.        ],\n",
       "       [0.02705439, 0.02753206],\n",
       "       [0.        , 0.01113208],\n",
       "       [0.09287296, 0.02464963],\n",
       "       [0.10357352, 0.05799621],\n",
       "       [0.11528363, 0.05342411],\n",
       "       [0.17100763, 0.07514165],\n",
       "       [0.16939241, 0.07683132],\n",
       "       [0.19664843, 0.07106651],\n",
       "       [0.22047253, 0.11624096],\n",
       "       [0.20573408, 0.10277308],\n",
       "       [0.20694541, 0.09477189],\n",
       "       [0.25943866, 0.12583242],\n",
       "       [0.32485366, 0.17716927],\n",
       "       [0.35352311, 0.17786502],\n",
       "       [0.339996  , 0.18054862],\n",
       "       [0.38239466, 0.25926848],\n",
       "       [0.42216825, 0.34688397],\n",
       "       [0.36301234, 0.29102476],\n",
       "       [0.38905702, 0.32362588],\n",
       "       [0.41207336, 0.36432761],\n",
       "       [0.52089657, 0.39841965],\n",
       "       [0.59519482, 0.40691777],\n",
       "       [0.53926904, 0.43067286],\n",
       "       [0.59822317, 0.44086073],\n",
       "       [0.54310515, 0.46312489],\n",
       "       [0.52190582, 0.49309216],\n",
       "       [0.52473237, 0.44125831],\n",
       "       [0.58207159, 0.43007652],\n",
       "       [0.56894804, 0.50268362],\n",
       "       [0.61195238, 0.52748237],\n",
       "       [0.57924503, 0.46685216],\n",
       "       [0.55582481, 0.4980121 ],\n",
       "       [0.47365225, 0.44364374],\n",
       "       [0.48233402, 0.46098796],\n",
       "       [0.49222681, 0.46700132],\n",
       "       [0.43791656, 0.44120864],\n",
       "       [0.46234602, 0.49463275],\n",
       "       [0.45204935, 0.48509096],\n",
       "       [0.40965068, 0.47048008],\n",
       "       [0.42176467, 0.41148987],\n",
       "       [0.52513626, 0.445731  ],\n",
       "       [0.58166771, 0.42595167],\n",
       "       [0.53664458, 0.39563664],\n",
       "       [0.56228538, 0.36725971],\n",
       "       [0.5162527 , 0.32213496],\n",
       "       [0.47405613, 0.32471922],\n",
       "       [0.51383003, 0.32988766],\n",
       "       [0.55663227, 0.37352148],\n",
       "       [0.56470836, 0.35955668],\n",
       "       [0.62245115, 0.37784516],\n",
       "       [0.60528971, 0.35796642],\n",
       "       [0.65374506, 0.37347181],\n",
       "       [0.69170195, 0.4446874 ],\n",
       "       [0.66242683, 0.41273229],\n",
       "       [0.68463541, 0.41804989],\n",
       "       [0.71128606, 0.40905477],\n",
       "       [0.67151217, 0.4160123 ],\n",
       "       [0.65879251, 0.40299175],\n",
       "       [0.72178484, 0.42629959],\n",
       "       [0.75388652, 0.43325711],\n",
       "       [0.80516843, 0.49378791],\n",
       "       [0.83080953, 0.4307226 ],\n",
       "       [0.81990719, 0.41983898],\n",
       "       [0.78215209, 0.38475302],\n",
       "       [0.80032307, 0.38246693]])"
      ]
     },
     "execution_count": 205,
     "metadata": {},
     "output_type": "execute_result"
    }
   ],
   "source": [
    "input_data = scaler.fit_transform(final_df)\n",
    "input_data"
   ]
  },
  {
   "cell_type": "code",
   "execution_count": 206,
   "id": "veVr_FEZYEHf",
   "metadata": {
    "colab": {
     "base_uri": "https://localhost:8080/"
    },
    "id": "veVr_FEZYEHf",
    "outputId": "10bab896-2454-4eb0-fcfd-97a206973172"
   },
   "outputs": [
    {
     "data": {
      "text/plain": [
       "(169, 2)"
      ]
     },
     "execution_count": 206,
     "metadata": {},
     "output_type": "execute_result"
    }
   ],
   "source": [
    "input_data.shape"
   ]
  },
  {
   "cell_type": "code",
   "execution_count": 207,
   "id": "sfaDTr_nYQk6",
   "metadata": {
    "id": "sfaDTr_nYQk6"
   },
   "outputs": [],
   "source": [
    "x_test = []\n",
    "y_test = []\n",
    "\n",
    "for i in range(100,input_data.shape[0]):\n",
    "  x_test.append(input_data[i-100: i])\n",
    "  y_test.append(input_data[i, 0])"
   ]
  },
  {
   "cell_type": "code",
   "execution_count": 208,
   "id": "0iKpXhv_YyzU",
   "metadata": {
    "colab": {
     "base_uri": "https://localhost:8080/"
    },
    "id": "0iKpXhv_YyzU",
    "outputId": "44824bb4-7fdc-4204-ccae-b64a44ce0302"
   },
   "outputs": [
    {
     "name": "stdout",
     "output_type": "stream",
     "text": [
      "(69, 100, 2)\n",
      "(69,)\n"
     ]
    }
   ],
   "source": [
    "x_test, y_test = np.array(x_test), np.array(y_test)\n",
    "print(x_test.shape)\n",
    "print(y_test.shape)"
   ]
  },
  {
   "cell_type": "code",
   "execution_count": 209,
   "id": "wodtyRnFZGol",
   "metadata": {
    "colab": {
     "base_uri": "https://localhost:8080/"
    },
    "id": "wodtyRnFZGol",
    "outputId": "3436a4e6-66d5-4830-c48d-d9cd23e3620e"
   },
   "outputs": [
    {
     "name": "stdout",
     "output_type": "stream",
     "text": [
      "Original x_test shape: (69, 100, 2)\n",
      "Reshaped x_test shape: (69, 100, 2)\n"
     ]
    }
   ],
   "source": [
    "print(\"Original x_test shape:\", x_test.shape)\n",
    "print(\"Reshaped x_test shape:\", x_test_reshaped.shape)"
   ]
  },
  {
   "cell_type": "code",
   "execution_count": 210,
   "id": "a035d39a",
   "metadata": {},
   "outputs": [
    {
     "name": "stdout",
     "output_type": "stream",
     "text": [
      "Model: \"sequential_19\"\n",
      "_________________________________________________________________\n",
      " Layer (type)                Output Shape              Param #   \n",
      "=================================================================\n",
      " lstm_19 (LSTM)              (None, 120)               58560     \n",
      "                                                                 \n",
      " dropout_19 (Dropout)        (None, 120)               0         \n",
      "                                                                 \n",
      " dense_4 (Dense)             (None, 2)                 242       \n",
      "                                                                 \n",
      "=================================================================\n",
      "Total params: 58802 (229.70 KB)\n",
      "Trainable params: 58802 (229.70 KB)\n",
      "Non-trainable params: 0 (0.00 Byte)\n",
      "_________________________________________________________________\n"
     ]
    }
   ],
   "source": [
    "model.summary()\n"
   ]
  },
  {
   "cell_type": "code",
   "execution_count": 211,
   "id": "203d5a6a",
   "metadata": {},
   "outputs": [],
   "source": [
    "model.compile(optimizer='adam', loss='mean_squared_error')\n"
   ]
  },
  {
   "cell_type": "code",
   "execution_count": 212,
   "id": "ed3j_um1ZWwc",
   "metadata": {
    "colab": {
     "base_uri": "https://localhost:8080/"
    },
    "id": "ed3j_um1ZWwc",
    "outputId": "bbdab5de-d976-4e21-e0ca-c85d69ac9154"
   },
   "outputs": [
    {
     "data": {
      "text/plain": [
       "(69, 2)"
      ]
     },
     "execution_count": 212,
     "metadata": {},
     "output_type": "execute_result"
    }
   ],
   "source": [
    "y_predicted.shape"
   ]
  },
  {
   "cell_type": "code",
   "execution_count": 213,
   "id": "idEx9eniZbXb",
   "metadata": {
    "colab": {
     "base_uri": "https://localhost:8080/"
    },
    "id": "idEx9eniZbXb",
    "outputId": "42bf5e7e-5ea0-4f97-a91f-ace1adf9653e"
   },
   "outputs": [
    {
     "data": {
      "text/plain": [
       "array([0.02059366, 0.09267118, 0.09913175, 0.00100955, 0.02705439,\n",
       "       0.        , 0.09287296, 0.10357352, 0.11528363, 0.17100763,\n",
       "       0.16939241, 0.19664843, 0.22047253, 0.20573408, 0.20694541,\n",
       "       0.25943866, 0.32485366, 0.35352311, 0.339996  , 0.38239466,\n",
       "       0.42216825, 0.36301234, 0.38905702, 0.41207336, 0.52089657,\n",
       "       0.59519482, 0.53926904, 0.59822317, 0.54310515, 0.52190582,\n",
       "       0.52473237, 0.58207159, 0.56894804, 0.61195238, 0.57924503,\n",
       "       0.55582481, 0.47365225, 0.48233402, 0.49222681, 0.43791656,\n",
       "       0.46234602, 0.45204935, 0.40965068, 0.42176467, 0.52513626,\n",
       "       0.58166771, 0.53664458, 0.56228538, 0.5162527 , 0.47405613,\n",
       "       0.51383003, 0.55663227, 0.56470836, 0.62245115, 0.60528971,\n",
       "       0.65374506, 0.69170195, 0.66242683, 0.68463541, 0.71128606,\n",
       "       0.67151217, 0.65879251, 0.72178484, 0.75388652, 0.80516843,\n",
       "       0.83080953, 0.81990719, 0.78215209, 0.80032307])"
      ]
     },
     "execution_count": 213,
     "metadata": {},
     "output_type": "execute_result"
    }
   ],
   "source": [
    "y_test"
   ]
  },
  {
   "cell_type": "code",
   "execution_count": 214,
   "id": "-vnfetmVZf4z",
   "metadata": {
    "colab": {
     "base_uri": "https://localhost:8080/"
    },
    "id": "-vnfetmVZf4z",
    "outputId": "fed58a1e-88ef-46ff-9d8a-f3304b89f252"
   },
   "outputs": [
    {
     "data": {
      "text/plain": [
       "array([[26339.154, 27997.55 ],\n",
       "       [24500.438, 26246.125],\n",
       "       [23821.473, 25725.076],\n",
       "       [23344.72 , 25395.43 ],\n",
       "       [21923.848, 24019.926],\n",
       "       [21088.828, 23263.51 ],\n",
       "       [20127.455, 22369.344],\n",
       "       [20347.574, 22759.76 ],\n",
       "       [20668.895, 23183.4  ],\n",
       "       [21091.248, 23647.068],\n",
       "       [22046.098, 24648.555],\n",
       "       [22833.262, 25394.887],\n",
       "       [23776.197, 26271.547],\n",
       "       [24801.424, 27208.79 ],\n",
       "       [25482.875, 27754.523],\n",
       "       [26038.73 , 28179.26 ],\n",
       "       [27029.814, 29094.842],\n",
       "       [28517.166, 30523.928],\n",
       "       [30005.846, 31929.26 ],\n",
       "       [31098.555, 32854.992],\n",
       "       [32377.154, 34021.05 ],\n",
       "       [33721.816, 35349.613],\n",
       "       [34313.266, 35732.836],\n",
       "       [35032.723, 36308.535],\n",
       "       [35797.246, 36999.645],\n",
       "       [37171.426, 38599.58 ],\n",
       "       [38829.617, 40552.793],\n",
       "       [39840.688, 41655.703],\n",
       "       [41143.484, 43093.12 ],\n",
       "       [41858.05 , 43763.992],\n",
       "       [42340.938, 44110.902],\n",
       "       [42759.67 , 44412.945],\n",
       "       [43483.617, 45194.02 ],\n",
       "       [43990.535, 45706.56 ],\n",
       "       [44722.586, 46536.74 ],\n",
       "       [45116.977, 46908.723],\n",
       "       [45308.27 , 46994.316],\n",
       "       [44837.168, 46220.42 ],\n",
       "       [44513.875, 45694.395],\n",
       "       [44290.387, 45371.27 ],\n",
       "       [43574.16 , 44495.508],\n",
       "       [43232.426, 44068.086],\n",
       "       [42831.188, 43602.812],\n",
       "       [42033.523, 42763.547],\n",
       "       [41519.066, 42235.164],\n",
       "       [41974.61 , 42906.688],\n",
       "       [42724.426, 43960.73 ],\n",
       "       [43064.098, 44390.562],\n",
       "       [43560.504, 44981.61 ],\n",
       "       [43669.74 , 45023.703],\n",
       "       [43442.29 , 44616.73 ],\n",
       "       [43561.215, 44699.164],\n",
       "       [43926.42 , 45161.266],\n",
       "       [44282.426, 45612.96 ],\n",
       "       [44991.062, 46532.3  ],\n",
       "       [45477.348, 47130.88 ],\n",
       "       [46259.645, 48086.637],\n",
       "       [47204.88 , 49231.785],\n",
       "       [47804.75 , 49924.504],\n",
       "       [48511.027, 50714.35 ],\n",
       "       [49313.285, 51620.566],\n",
       "       [49713.234, 52005.133],\n",
       "       [49990.496, 52207.074],\n",
       "       [50680.016, 52973.016],\n",
       "       [51485.4  , 53906.355],\n",
       "       [52562.52 , 55165.465],\n",
       "       [53678.137, 56462.598],\n",
       "       [54565.47 , 57455.242],\n",
       "       [55063.152, 57942.145]], dtype=float32)"
      ]
     },
     "execution_count": 214,
     "metadata": {},
     "output_type": "execute_result"
    }
   ],
   "source": [
    "y_predicted"
   ]
  },
  {
   "cell_type": "code",
   "execution_count": 215,
   "id": "CW8V6moEZl9d",
   "metadata": {
    "colab": {
     "base_uri": "https://localhost:8080/"
    },
    "id": "CW8V6moEZl9d",
    "outputId": "39341482-94b7-46d1-8c49-d10573373f09"
   },
   "outputs": [
    {
     "data": {
      "text/plain": [
       "array([0.02018978, 0.00496968])"
      ]
     },
     "execution_count": 215,
     "metadata": {},
     "output_type": "execute_result"
    }
   ],
   "source": [
    "scaler.scale_"
   ]
  },
  {
   "cell_type": "code",
   "execution_count": 216,
   "id": "esMv-1b5Zvaj",
   "metadata": {
    "id": "esMv-1b5Zvaj"
   },
   "outputs": [],
   "source": [
    "scale_factor = 1/0.02018978\n",
    "y_predicted = y_predicted * scale_factor\n",
    "y_test = y_test * scale_factor"
   ]
  },
  {
   "cell_type": "code",
   "execution_count": 217,
   "id": "fBl2JLiyaHpR",
   "metadata": {
    "colab": {
     "base_uri": "https://localhost:8080/",
     "height": 542
    },
    "id": "fBl2JLiyaHpR",
    "outputId": "6d3bb131-ac63-41f9-bc3e-ce7312cd7851"
   },
   "outputs": [
    {
     "data": {
      "image/png": "[encoded data removed]",
      "text/plain": [
       "<Figure size 1200x600 with 1 Axes>"
      ]
     },
     "metadata": {},
     "output_type": "display_data"
    }
   ],
   "source": [
    "plt.figure(figsize=(12,6))\n",
    "plt.plot(y_test, 'b', label = 'Original Price')\n",
    "plt.plot(y_predicted , 'r', label = 'Predicted Price')\n",
    "plt.xlabel('Time')\n",
    "plt.ylabel('Price')\n",
    "plt.legend()\n",
    "plt.show()"
   ]
  },
  {
   "cell_type": "code",
   "execution_count": null,
   "id": "NG0pHPY-a_RF",
   "metadata": {
    "id": "NG0pHPY-a_RF"
   },
   "outputs": [],
   "source": []
  },
  {
   "cell_type": "code",
   "execution_count": null,
   "id": "64f36c11",
   "metadata": {},
   "outputs": [],
   "source": []
  }
 ],
 "metadata": {
  "colab": {
   "provenance": []
  },
  "kernelspec": {
   "display_name": "Python 3 (ipykernel)",
   "language": "python",
   "name": "python3"
  },
  "language_info": {
   "codemirror_mode": {
    "name": "ipython",
    "version": 3
   },
   "file_extension": ".py",
   "mimetype": "text/x-python",
   "name": "python",
   "nbconvert_exporter": "python",
   "pygments_lexer": "ipython3",
   "version": "3.11.4"
  }
 },
 "nbformat": 4,
 "nbformat_minor": 5
}
